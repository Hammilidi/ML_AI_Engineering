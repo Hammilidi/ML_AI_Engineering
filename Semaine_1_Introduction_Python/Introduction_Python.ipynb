{
 "cells": [
  {
   "cell_type": "code",
   "execution_count": 124,
   "id": "421b8af1-10cb-4ee2-ad7c-57534749fcfa",
   "metadata": {},
   "outputs": [
    {
     "name": "stdout",
     "output_type": "stream",
     "text": [
      "Collecting pypandoc\n",
      "  Downloading pypandoc-1.15-py3-none-any.whl.metadata (16 kB)\n",
      "Downloading pypandoc-1.15-py3-none-any.whl (21 kB)\n",
      "Installing collected packages: pypandoc\n",
      "Successfully installed pypandoc-1.15\n"
     ]
    },
    {
     "name": "stderr",
     "output_type": "stream",
     "text": [
      "\n",
      "[notice] A new release of pip is available: 25.1.1 -> 25.2\n",
      "[notice] To update, run: c:\\Users\\Dell\\AppData\\Local\\Programs\\Python\\Python39\\python.exe -m pip install --upgrade pip\n"
     ]
    }
   ],
   "source": [
    "!pip install pypandoc"
   ]
  },
  {
   "cell_type": "markdown",
   "id": "8e64e651-db09-4821-afd5-0225f840e369",
   "metadata": {},
   "source": [
    "# Python Pour la Data Science"
   ]
  },
  {
   "cell_type": "markdown",
   "id": "0fa34501-53b0-4d97-a9dc-65311ef215ad",
   "metadata": {
    "jp-MarkdownHeadingCollapsed": true
   },
   "source": [
    "# I. Introcution à Python"
   ]
  },
  {
   "cell_type": "markdown",
   "id": "abcb8933-af00-4f48-a74e-667b92065531",
   "metadata": {
    "jp-MarkdownHeadingCollapsed": true
   },
   "source": [
    "# Les variables"
   ]
  },
  {
   "cell_type": "code",
   "execution_count": 51,
   "id": "12d7bb6a-333a-4aae-8d10-acff98be73c7",
   "metadata": {
    "jp-MarkdownHeadingCollapsed": true
   },
   "outputs": [
    {
     "name": "stdout",
     "output_type": "stream",
     "text": [
      "John\n",
      "23\n",
      "16.4\n",
      "True\n",
      "John, tu as 23 ans. Tu as 16.4 de moyenne !\n"
     ]
    }
   ],
   "source": [
    "nom_de_famille = \"John\"\n",
    "age =  23\n",
    "note = 16.4\n",
    "is_student = True\n",
    "\n",
    "print(nom)\n",
    "print(age)\n",
    "print(note)\n",
    "print(is_student)\n",
    "print(f\"{nom}, tu as {age} ans. Tu as {note} de moyenne !\")\n",
    "# print(f\"{nom}, tu as {age} ans. Tu as {note} de moyenne !\")"
   ]
  },
  {
   "cell_type": "markdown",
   "id": "09efda64-8780-46bc-b2d6-603d705301fd",
   "metadata": {},
   "source": [
    "| Type    | Exemple         | Description            |\n",
    "| ------- | --------------- | ---------------------- |\n",
    "| `int`   | `42`            | Entier                 |\n",
    "| `float` | `3.14`          | Nombre décimal         |\n",
    "| `str`   | `\"Bonjour\"`     | Chaîne de caractères   |\n",
    "| `bool`  | `True`, `False` | Booléen (vrai ou faux) |"
   ]
  },
  {
   "cell_type": "markdown",
   "id": "99403436-f073-4d40-ab89-78a78b213a44",
   "metadata": {},
   "source": [
    "## 🧠 Bonnes pratiques pour nommer une variable\n",
    "### ✅ À faire :\n",
    "\n",
    "- Utiliser des noms explicites : nom_utilisateur, nombre_articles\n",
    "\n",
    "- Utiliser des lettres minuscules et _ pour séparer les mots\n",
    "\n",
    "### ❌ À éviter :\n",
    "\n",
    "- Les noms vagues comme x, y, data (sauf en maths ou boucles)\n",
    "\n",
    "- Commencer par un chiffre\n",
    "\n",
    "- Utiliser des caractères spéciaux ou des accents"
   ]
  },
  {
   "cell_type": "markdown",
   "id": "af92a762-c501-4f52-9381-2e07d11b9a8c",
   "metadata": {
    "jp-MarkdownHeadingCollapsed": true
   },
   "source": [
    "# Calculs Mathématiques"
   ]
  },
  {
   "cell_type": "markdown",
   "id": "b7589ac9-3f02-408f-9ea4-02776788f237",
   "metadata": {},
   "source": [
    "### Addition"
   ]
  },
  {
   "cell_type": "code",
   "execution_count": 37,
   "id": "0aa2668a-59d7-4794-8978-9065487690ce",
   "metadata": {},
   "outputs": [
    {
     "name": "stdout",
     "output_type": "stream",
     "text": [
      "28.7\n"
     ]
    }
   ],
   "source": [
    "note_1 = 12.7\n",
    "note_2 = 16\n",
    "resultat = note_1 + note_2\n",
    "print(resultat)"
   ]
  },
  {
   "cell_type": "markdown",
   "id": "9528f7f8-3ccc-4e26-b8c0-5c041d4620f7",
   "metadata": {},
   "source": [
    "### Soustraction"
   ]
  },
  {
   "cell_type": "code",
   "execution_count": 31,
   "id": "2eca7d26-c7b8-4e79-bb98-d7add52acc4c",
   "metadata": {},
   "outputs": [
    {
     "name": "stdout",
     "output_type": "stream",
     "text": [
      "21\n"
     ]
    }
   ],
   "source": [
    "birth_year = 2004\n",
    "this_year = 2025\n",
    "age = this_year - birth_year\n",
    "print(age)"
   ]
  },
  {
   "cell_type": "markdown",
   "id": "50dd49f4-23af-40c5-a138-73f5e1f42cbf",
   "metadata": {},
   "source": [
    "### Division"
   ]
  },
  {
   "cell_type": "code",
   "execution_count": 39,
   "id": "5eaf4d3f-6086-4741-894c-1a1cf8a2c356",
   "metadata": {},
   "outputs": [
    {
     "name": "stdout",
     "output_type": "stream",
     "text": [
      "Division Euclidienne : 14.35\n",
      "Division Entière : 14.0\n",
      "Modulo : 0.6999999999999993\n"
     ]
    }
   ],
   "source": [
    "# Division Euclidienne\n",
    "moyenne_euclidienne = resultat / 2\n",
    "print(f\"Division Euclidienne : {moyenne_euclidienne}\")\n",
    "\n",
    "# Division Entière \n",
    "moyenne_entiere = resultat // 2\n",
    "print(f\"Division Entière : {moyenne_entiere}\")\n",
    "\n",
    "# Modulo : reste de la division euclidienne \n",
    "modulo = resultat % 2\n",
    "print(f\"Modulo : {modulo}\")"
   ]
  },
  {
   "cell_type": "markdown",
   "id": "938c5c82-d52d-4391-965a-bd9c843768f2",
   "metadata": {},
   "source": [
    "### Multiplication & Puissance"
   ]
  },
  {
   "cell_type": "code",
   "execution_count": 42,
   "id": "c514de6e-de7e-4c21-bbcc-84f24876ac1d",
   "metadata": {},
   "outputs": [
    {
     "name": "stdout",
     "output_type": "stream",
     "text": [
      "Multiplication : 10\n",
      "Puissance : 4\n"
     ]
    }
   ],
   "source": [
    "# Multiplication\n",
    "multiplication = 2*5\n",
    "print(f\"Multiplication : {multiplication}\")\n",
    "\n",
    "# Puissance\n",
    "puissance = 2**2\n",
    "print(f\"Puissance : {puissance}\")"
   ]
  },
  {
   "cell_type": "markdown",
   "id": "726331d6-df2a-471f-9c89-730081b8cbbd",
   "metadata": {
    "jp-MarkdownHeadingCollapsed": true
   },
   "source": [
    "# Entrées Utilisateur & Casting"
   ]
  },
  {
   "cell_type": "code",
   "execution_count": 3,
   "id": "eecae731-09a7-499c-93fa-a00b17227dcb",
   "metadata": {},
   "outputs": [
    {
     "name": "stdin",
     "output_type": "stream",
     "text": [
      "Quel votre nom ? :  John\n",
      "L'année de naissance ? :  2005\n"
     ]
    },
    {
     "name": "stdout",
     "output_type": "stream",
     "text": [
      "John, vous avez 20 ans.\n"
     ]
    }
   ],
   "source": [
    "name = input(\"Quel votre nom ? : \")\n",
    "annee_naissance = input(\"L'année de naissance ? : \")\n",
    "annee_naissance = str(annee_naissance)\n",
    "age = 2025 - annee_naissance\n",
    "print(f\"{name}, vous avez {age} ans.\")"
   ]
  },
  {
   "cell_type": "markdown",
   "id": "1fc43e32-f325-4292-91ff-852e1c1ee424",
   "metadata": {},
   "source": [
    "# Stuctures Conditionnelles"
   ]
  },
  {
   "cell_type": "markdown",
   "id": "d27fef25-8326-4d44-b014-222dba6a17f8",
   "metadata": {
    "jp-MarkdownHeadingCollapsed": true
   },
   "source": [
    "### Condition Binaire"
   ]
  },
  {
   "cell_type": "code",
   "execution_count": 5,
   "id": "da105bc1-2b30-4c48-bc43-cc4ae302d089",
   "metadata": {},
   "outputs": [
    {
     "name": "stdout",
     "output_type": "stream",
     "text": [
      "Validé\n"
     ]
    }
   ],
   "source": [
    "moyenne = 1000\n",
    "if moyenne > 10:\n",
    "    print(\"Validé\")\n",
    "else: \n",
    "    print(\"Non Validé\")"
   ]
  },
  {
   "cell_type": "markdown",
   "id": "82816b7c-d832-4231-a143-5ddafc750177",
   "metadata": {
    "jp-MarkdownHeadingCollapsed": true
   },
   "source": [
    "### Conditions Multiples"
   ]
  },
  {
   "cell_type": "code",
   "execution_count": 14,
   "id": "1905abf8-0cb8-40f4-b1e5-ed49d44d76a5",
   "metadata": {},
   "outputs": [
    {
     "name": "stdout",
     "output_type": "stream",
     "text": [
      "Impossible\n"
     ]
    }
   ],
   "source": [
    "moyenne = 3\n",
    "if moyenne >= 0 and moyenne < 5 and moyenne%2==0 :\n",
    "    print(\"Non Validé !\")\n",
    "elif moyenne >=5 and moyenne<10:\n",
    "    print(\"Rattrapage !\")\n",
    "elif moyenne >=10 and moyenne<=20:\n",
    "    print(\"Validé !\")\n",
    "else:\n",
    "    print(\"Impossible\")\n",
    "    \n",
    "# age = 18\n",
    "# if age>=12 and age<=16:\n",
    "#     print(\"Adolescent\")\n",
    "# elif age >=17 or age < 5:\n",
    "#     print(\"Catégorie bizarre!\")"
   ]
  },
  {
   "cell_type": "markdown",
   "id": "ef439d31-aa1f-4893-a934-52660f85a4c1",
   "metadata": {
    "jp-MarkdownHeadingCollapsed": true
   },
   "source": [
    "# Les boucles"
   ]
  },
  {
   "cell_type": "markdown",
   "id": "258e9433-07f6-4b49-8fb0-be1811fdb69c",
   "metadata": {},
   "source": [
    "## Boucle For"
   ]
  },
  {
   "cell_type": "code",
   "execution_count": 18,
   "id": "d10f0974-39f9-4239-9237-5082a876d18e",
   "metadata": {},
   "outputs": [
    {
     "name": "stdout",
     "output_type": "stream",
     "text": [
      "5x1=5\n",
      "5x3=15\n",
      "5x5=25\n",
      "5x7=35\n",
      "5x9=45\n"
     ]
    }
   ],
   "source": [
    "for i in range(0, 11, 2):\n",
    "    print(f\"5x{i}={5*i}\")"
   ]
  },
  {
   "cell_type": "markdown",
   "id": "e74ed7ad-a9b4-41ba-b6d3-fdd6d4026aec",
   "metadata": {
    "jp-MarkdownHeadingCollapsed": true
   },
   "source": [
    "## Boucle While"
   ]
  },
  {
   "cell_type": "code",
   "execution_count": 22,
   "id": "81d06f23-d99a-47d9-8828-55e0c8aecf07",
   "metadata": {},
   "outputs": [
    {
     "name": "stdout",
     "output_type": "stream",
     "text": [
      "5x1=5\n",
      "5x3=15\n",
      "5x5=25\n",
      "5x7=35\n",
      "5x9=45\n",
      "5x11=55\n"
     ]
    }
   ],
   "source": [
    "i = 1\n",
    "while i <= 11:\n",
    "    print(f\"5x{i}={5*i}\")\n",
    "    i += 2"
   ]
  },
  {
   "cell_type": "markdown",
   "id": "b575e10e-b77f-4b1f-abcf-a7194f0b407c",
   "metadata": {
    "jp-MarkdownHeadingCollapsed": true
   },
   "source": [
    "# Les Structures de Données en Python"
   ]
  },
  {
   "cell_type": "markdown",
   "id": "951fb324-557c-4d5c-9bdd-b1f0b652aa2a",
   "metadata": {},
   "source": [
    "- Une structure de données est un moyen de stocker plusieurs valeurs dans une seule variable.\n",
    "- Par exemple : une liste de noms, un ensemble de notes, ou un dictionnaire contenant les infos d’un utilisateur."
   ]
  },
  {
   "cell_type": "markdown",
   "id": "e6cf6455-2989-4ae4-8a5a-c9987d9a5e15",
   "metadata": {
    "jp-MarkdownHeadingCollapsed": true
   },
   "source": [
    "### 1. 📋 La liste (list)\n",
    "#### Permet de stocker plusieurs éléments dans un ordre précis."
   ]
  },
  {
   "cell_type": "code",
   "execution_count": 6,
   "id": "803b1118-c8a0-410a-823e-01c1c3c5c0ec",
   "metadata": {},
   "outputs": [
    {
     "name": "stdout",
     "output_type": "stream",
     "text": [
      "pastèque\n",
      "24.6\n",
      "False\n",
      "1\n",
      "cerise\n",
      "banane\n"
     ]
    }
   ],
   "source": [
    "fruits = [\"pomme\", \"banane\", \"cerise\", 1, False, 24.6, \"pastèque\"]\n",
    "# print(fruits[-2])\n",
    "\n",
    "range(len(fruits))               \n",
    "for i in range(1, len(fruits)):\n",
    "    print(fruits[-i])\n",
    "\n",
    "# for fruit in fruits:\n",
    "#     print(fruit)    "
   ]
  },
  {
   "cell_type": "markdown",
   "id": "45039d54-d2d9-4cc1-ab0a-73f71d862c8d",
   "metadata": {},
   "source": [
    "#### 🧩 Accès par index"
   ]
  },
  {
   "cell_type": "code",
   "execution_count": 116,
   "id": "730ecb11-387e-415c-8ace-08b83709a175",
   "metadata": {},
   "outputs": [
    {
     "name": "stdout",
     "output_type": "stream",
     "text": [
      "pomme\n"
     ]
    }
   ],
   "source": [
    "print(fruits[0])  # affiche \"pomme\""
   ]
  },
  {
   "cell_type": "markdown",
   "id": "47b0f7be-1832-4391-8415-eab484c268fd",
   "metadata": {},
   "source": [
    "#### ➕ Ajouter un élément "
   ]
  },
  {
   "cell_type": "code",
   "execution_count": 8,
   "id": "b521b99e-9b8e-4d7e-9fd7-89b6fabe59ba",
   "metadata": {},
   "outputs": [
    {
     "name": "stdout",
     "output_type": "stream",
     "text": [
      "['pomme', 'banane', 'cerise', 1, False, 24.6, 'pastèque', 'Mangue', 'Mangue', 'Mangue', 'python', 'fraise']\n"
     ]
    }
   ],
   "source": [
    "fruits.append(\"Mangue\") # Ajouter un seul élément\n",
    "fruits.extend([\"Mangue\", \"python\", \"fraise\"]) # Ajouter plusieurs éléments à la fois\n",
    "fruits\n",
    "\n",
    "# fruits[0]= \"pomme\" # Mettre à jour\n",
    "\n",
    "print(fruits)"
   ]
  },
  {
   "cell_type": "markdown",
   "id": "cdd67a6a-59f2-46b1-88be-0db4c544f406",
   "metadata": {},
   "source": [
    "#### ❌ Supprimer un ou plusieurs éléments à la fois"
   ]
  },
  {
   "cell_type": "code",
   "execution_count": 11,
   "id": "991a8b78-71ee-4a2a-8442-874cd6526d40",
   "metadata": {},
   "outputs": [
    {
     "data": {
      "text/plain": [
       "[]"
      ]
     },
     "execution_count": 11,
     "metadata": {},
     "output_type": "execute_result"
    }
   ],
   "source": [
    "fruits.pop(7) # supprimer selon l'index de l'élément et le retourne. Si l'index n'est pas précisé, par défaut, le derner élément est supprimé\n",
    "fruits.remove(\"banane\") # supprimer selon la valeur de l'élément\n",
    "fruits.clear() # vider la liste\n",
    "fruits"
   ]
  },
  {
   "cell_type": "code",
   "execution_count": 20,
   "id": "1c6220d5-5e43-40c1-aa6e-0ac3342c3d89",
   "metadata": {},
   "outputs": [
    {
     "name": "stdout",
     "output_type": "stream",
     "text": [
      "['Kaleb', 'Fatoumata', 'Elsa', 'Djibril', 'Arnaud', 'Amin', 'Amandine', 'AbdouFataou']\n"
     ]
    }
   ],
   "source": [
    "notes = [18, 5, 9, 20, 12, 16, 3, 10]\n",
    "etudiants = [\"Elsa\", \"Amin\", \"AbdouFataou\", \"Amandine\", \"Djibril\", \"Kaleb\", \"Arnaud\", \"Fatoumata\"]\n",
    "notes.sort(reverse=True)\n",
    "# notes.reverse()\n",
    "# etudiants.sort()\n",
    "# etudiants.reverse()\n",
    "etudiants.sort(reverse=True)\n",
    "# print(notes)\n",
    "print(etudiants)"
   ]
  },
  {
   "cell_type": "markdown",
   "id": "40319461-c8b3-44fd-848a-5fe522c7e4d4",
   "metadata": {},
   "source": [
    "#### Listes imbriquées"
   ]
  },
  {
   "cell_type": "code",
   "execution_count": 33,
   "id": "f82367e4-8fcf-4a6c-aeae-57e80810054c",
   "metadata": {},
   "outputs": [
    {
     "data": {
      "text/plain": [
       "8"
      ]
     },
     "execution_count": 33,
     "metadata": {},
     "output_type": "execute_result"
    }
   ],
   "source": [
    "students = [[\"Elsa\", \"Amin\", \"AbdouFataou\", \"Amandine\", \"Djibril\", \"Kaleb\", \"Arnaud\", \"Fatoumata\"], [12, 17, 8, 16, 5, 14, 10, 9]]\n",
    "students[1][2]"
   ]
  },
  {
   "cell_type": "markdown",
   "id": "7894ba11-63a6-400b-b4d1-4d0997f0ce11",
   "metadata": {
    "jp-MarkdownHeadingCollapsed": true
   },
   "source": [
    "### 2. 📘 Le tuple (tuple\n",
    "#### Semblable à une liste, mais immuable (on ne peut pas modifier son contenu)."
   ]
  },
  {
   "cell_type": "code",
   "execution_count": 45,
   "id": "460c9e32-d2c7-475a-87da-21bb0416aa58",
   "metadata": {},
   "outputs": [
    {
     "data": {
      "text/plain": [
       "tuple"
      ]
     },
     "execution_count": 45,
     "metadata": {},
     "output_type": "execute_result"
    }
   ],
   "source": [
    "coordonnees = (10.5, 20.3)\n",
    "# coordonnees[1] \n",
    "# coordonnees.remove(10.5)\n",
    "# coordonnees.append(11.5)\n",
    "\n",
    "coordonnees = list(coordonnees)\n",
    "# type(coordonnees)\n",
    "coordonnees.remove(10.5)\n",
    "coordonnees.append(10.5)\n",
    "coordonnees = tuple(coordonnees)\n",
    "type(coordonnees)\n",
    "\n",
    "# print(coordonnees)"
   ]
  },
  {
   "cell_type": "markdown",
   "id": "35436c35-0010-4399-a19d-a9cdff91678f",
   "metadata": {
    "jp-MarkdownHeadingCollapsed": true
   },
   "source": [
    "###  3. 🔑 Le dictionnaire (dict)\n",
    "#### Stocke des données sous forme clé → valeur."
   ]
  },
  {
   "cell_type": "code",
   "execution_count": 76,
   "id": "01bb6917-f737-4b74-bf05-9786b138d19a",
   "metadata": {},
   "outputs": [
    {
     "name": "stdout",
     "output_type": "stream",
     "text": [
      "nom:Alice\n"
     ]
    }
   ],
   "source": [
    "utilisateurs = {\n",
    "    \"nom\": \"Alice\",\n",
    "    \"age\": 25,\n",
    "    \"email\": \"alice@example.com\"\n",
    "}\n",
    "# print(f\"nom:{utilisateurs[\"nom\"]}\")"
   ]
  },
  {
   "cell_type": "markdown",
   "id": "2a40276d-5b21-4573-8fdf-822c80f1e975",
   "metadata": {},
   "source": [
    "#### 🔍 Accès à une valeur "
   ]
  },
  {
   "cell_type": "code",
   "execution_count": 53,
   "id": "47d2b220-fdb6-401e-a9b0-16149057932a",
   "metadata": {},
   "outputs": [
    {
     "data": {
      "text/plain": [
       "'alice@example.com'"
      ]
     },
     "execution_count": 53,
     "metadata": {},
     "output_type": "execute_result"
    }
   ],
   "source": [
    "utilisateur[\"email\"]\n",
    "utilisateur.get(\"nom\")"
   ]
  },
  {
   "cell_type": "markdown",
   "id": "8c95220f-d633-4b6b-b69a-ac6c9ded9d71",
   "metadata": {},
   "source": [
    "#### Changer une valeur / Ajouter"
   ]
  },
  {
   "cell_type": "code",
   "execution_count": 55,
   "id": "d5cf131e-6c30-438b-b3a5-45f88d811d0f",
   "metadata": {},
   "outputs": [
    {
     "data": {
      "text/plain": [
       "{'nom': 'Alice', 'age': 23, 'email': 'alice@example.com', 'is_student': True}"
      ]
     },
     "execution_count": 55,
     "metadata": {},
     "output_type": "execute_result"
    }
   ],
   "source": [
    "# utilisateur.update({\"age\": 23})\n",
    "utilisateur.update({\"is_student\": True, \"enfants\": 3})\n",
    "\n",
    "utilisateur"
   ]
  },
  {
   "cell_type": "markdown",
   "id": "2df7f5f9-57bc-4a1d-8b4b-e3adb5df3eca",
   "metadata": {},
   "source": [
    "#### Supprimer une valeur "
   ]
  },
  {
   "cell_type": "code",
   "execution_count": 58,
   "id": "5ff3925f-2eb0-4679-ba2b-e5615158df8c",
   "metadata": {},
   "outputs": [
    {
     "data": {
      "text/plain": [
       "{}"
      ]
     },
     "execution_count": 58,
     "metadata": {},
     "output_type": "execute_result"
    }
   ],
   "source": [
    "# utilisateur.pop(\"is_student\")\n",
    "# utilisateur.popitem()\n",
    "# del utilisateur[\"is_student\"]\n",
    "utilisateur.clear()\n",
    "utilisateur"
   ]
  },
  {
   "cell_type": "markdown",
   "id": "53f6b857-33a6-4b08-bb19-ad500b6bc509",
   "metadata": {},
   "source": [
    "#### Loop on dictionnaries"
   ]
  },
  {
   "cell_type": "code",
   "execution_count": 71,
   "id": "8694637b-9158-42a7-a134-4494afdc791b",
   "metadata": {},
   "outputs": [
    {
     "name": "stdout",
     "output_type": "stream",
     "text": [
      "nom\n",
      "age\n",
      "email\n"
     ]
    }
   ],
   "source": [
    "# print(utilisateurs.keys())\n",
    "# print(utilisateurs.values())\n",
    "# print(utilisateurs.items())\n",
    "for key, value in utilisateurs.items():\n",
    "    print(f\"{key}:{value}\")\n",
    "\n",
    "# for element in utilisateurs:\n",
    "#     print(element)"
   ]
  },
  {
   "cell_type": "markdown",
   "id": "be10154e-1ed9-45ce-99c6-b2d9391566d8",
   "metadata": {},
   "source": [
    "### 4. 🧺 L’ensemble (set)\n",
    "#### Une collection non ordonnée et sans doublons."
   ]
  },
  {
   "cell_type": "markdown",
   "id": "374e4921-7f3d-4d68-a427-ea72f14eb8c5",
   "metadata": {},
   "source": [
    "Set items are unchangeable, but you can remove items and add new items"
   ]
  },
  {
   "cell_type": "code",
   "execution_count": 77,
   "id": "90dbac8d-97c4-4242-a745-5385402203a2",
   "metadata": {},
   "outputs": [
    {
     "name": "stdout",
     "output_type": "stream",
     "text": [
      "{'chat', 'chien', 'oiseau'}\n"
     ]
    }
   ],
   "source": [
    "animaux = {\"chat\", \"chien\", \"oiseau\", \"chat\"}\n",
    "print(animaux)  # affiche : {'chien', 'oiseau', 'chat'}\n"
   ]
  },
  {
   "cell_type": "markdown",
   "id": "ea15f990-034e-4726-9334-9368a0d46dfc",
   "metadata": {},
   "source": [
    "#### ➕ Ajouter un élément"
   ]
  },
  {
   "cell_type": "code",
   "execution_count": 78,
   "id": "b26e216f-2dc8-4b3e-a3a6-f7df675dae20",
   "metadata": {},
   "outputs": [
    {
     "name": "stdout",
     "output_type": "stream",
     "text": [
      "{'chien', 'aigle', 'tigre', 'panthère', 'oiseau', 'chat', 'poisson'}\n"
     ]
    }
   ],
   "source": [
    "animaux.add(\"poisson\")\n",
    "animaux.update({\"panthère\", \"tigre\", \"aigle\"})\n",
    "print(animaux)"
   ]
  },
  {
   "cell_type": "markdown",
   "id": "852dd71b-fd36-43b8-830f-2e5e479cce31",
   "metadata": {},
   "source": [
    "#### ❌ Supprimer un élément"
   ]
  },
  {
   "cell_type": "code",
   "execution_count": 82,
   "id": "31d2feac-74b3-4aee-9518-bd9d0e530b6a",
   "metadata": {},
   "outputs": [],
   "source": [
    "# # animaux.remove(\"chat\")\n",
    "# animaux.discard(\"chien\")\n",
    "\n",
    "animaux.clear()\n",
    "# animaux\n",
    "del animaux"
   ]
  },
  {
   "cell_type": "markdown",
   "id": "2dddc5f1-9e2a-4723-af53-8386698f7c83",
   "metadata": {},
   "source": [
    "| Structure | Ordonnée ? | Modifiable ? | Clés ? | Doublons ? | Exemple             |\n",
    "| --------- | ---------- | ------------ | ------ | ---------- | ------------------- |\n",
    "| `list`    | ✅          | ✅            | ❌      | ✅          | `[\"a\", \"b\", \"c\"]`   |\n",
    "| `tuple`   | ✅          | ❌            | ❌      | ✅          | `(\"a\", \"b\")`        |\n",
    "| `dict`    | ❌  | ✅            | ✅      | ❌          | `{\"nom\": \"Alice\"}`  |\n",
    "| `set`     | ❌          | ✅            | ❌      | ❌          | `{\"chat\", \"chien\"}` |\n"
   ]
  },
  {
   "cell_type": "markdown",
   "id": "46c876cf-422c-40a7-94d7-9fd2a32553aa",
   "metadata": {
    "jp-MarkdownHeadingCollapsed": true
   },
   "source": [
    "# 📚 Manipulation des chaines de caractères"
   ]
  },
  {
   "cell_type": "markdown",
   "id": "08ba2cb5-cc04-44cb-9e0e-bf8cfd8249c7",
   "metadata": {
    "jp-MarkdownHeadingCollapsed": true
   },
   "source": [
    "#### 1. 🔧 Opérations de base"
   ]
  },
  {
   "cell_type": "markdown",
   "id": "3c4b7469-5ea6-49e8-8857-e2f4f0248c83",
   "metadata": {},
   "source": [
    "##### ➕ Concaténation (assembler)"
   ]
  },
  {
   "cell_type": "code",
   "execution_count": 66,
   "id": "307279a2-03af-45a9-bfc4-75a359c53008",
   "metadata": {},
   "outputs": [
    {
     "name": "stdout",
     "output_type": "stream",
     "text": [
      "Bonjour Alice\n"
     ]
    }
   ],
   "source": [
    "prenom = \"Alice\"\n",
    "message = \"Bonjour \" + prenom\n",
    "print(message)  # Bonjour Alice"
   ]
  },
  {
   "cell_type": "markdown",
   "id": "32af7580-65ef-4336-b5d8-c3a1debf1679",
   "metadata": {},
   "source": [
    "##### 🔁 Répéter une chaîne"
   ]
  },
  {
   "cell_type": "code",
   "execution_count": 67,
   "id": "ea4c19de-8091-42a2-b339-56f79f2609af",
   "metadata": {},
   "outputs": [
    {
     "name": "stdout",
     "output_type": "stream",
     "text": [
      "hahaha\n"
     ]
    }
   ],
   "source": [
    "rire = \"ha\" * 3\n",
    "print(rire)  # hahaha"
   ]
  },
  {
   "cell_type": "markdown",
   "id": "427abfea-b1f9-4e63-996c-abea0abbfceb",
   "metadata": {
    "jp-MarkdownHeadingCollapsed": true
   },
   "source": [
    "#### 2. 🧩 Accéder à un caractère"
   ]
  },
  {
   "cell_type": "code",
   "execution_count": 69,
   "id": "fe7f2bdf-2cd3-40b8-9a19-839476a94db9",
   "metadata": {},
   "outputs": [
    {
     "name": "stdout",
     "output_type": "stream",
     "text": [
      "P\n",
      "n\n"
     ]
    }
   ],
   "source": [
    "mot = \"Python\"\n",
    "print(mot[0])   # P\n",
    "print(mot[-1])  # n (dernier caractère)\n"
   ]
  },
  {
   "cell_type": "markdown",
   "id": "63289e49-5182-4b5d-b092-b7335be8a706",
   "metadata": {
    "jp-MarkdownHeadingCollapsed": true
   },
   "source": [
    "#### 3. ✂️ Slicing (extraire une portion)"
   ]
  },
  {
   "cell_type": "code",
   "execution_count": 70,
   "id": "b3558fbb-ced7-4327-bb41-da85a4cb1b28",
   "metadata": {},
   "outputs": [
    {
     "name": "stdout",
     "output_type": "stream",
     "text": [
      "progr\n",
      "progra\n",
      "mmation\n"
     ]
    }
   ],
   "source": [
    "mot = \"programmation\"\n",
    "print(mot[0:5])   # progr\n",
    "print(mot[:6])    # progra\n",
    "print(mot[6:])    # mmation\n"
   ]
  },
  {
   "cell_type": "markdown",
   "id": "68480712-d4f9-46a9-a773-2eb52c64b9bb",
   "metadata": {
    "jp-MarkdownHeadingCollapsed": true
   },
   "source": [
    "#### 4. 🔠 Fonctions utiles sur les chaînes"
   ]
  },
  {
   "cell_type": "code",
   "execution_count": 90,
   "id": "40aa03fb-83b2-49c0-8aa6-b86d405cba10",
   "metadata": {},
   "outputs": [
    {
     "data": {
      "text/plain": [
       "False"
      ]
     },
     "execution_count": 90,
     "metadata": {},
     "output_type": "execute_result"
    }
   ],
   "source": [
    "texte = \"python est GÉNIAL!  \"\n",
    "texte.isdigit()"
   ]
  },
  {
   "cell_type": "markdown",
   "id": "f5bd5cb6-3150-4bf5-a1c1-4794ccaa2e12",
   "metadata": {
    "jp-MarkdownHeadingCollapsed": true
   },
   "source": [
    "Voici une liste claire des **principales méthodes de manipulation de chaînes de caractères (`str`) en Python**, avec une explication et un exemple pour chacune :\n",
    "\n",
    "---\n",
    "\n",
    "### 🔠 **Changement de casse**\n",
    "\n",
    "| Méthode            | Description                                            | Exemple                                                    |\n",
    "| ------------------ | ------------------------------------------------------ | ---------------------------------------------------------- |\n",
    "| `str.lower()`      | Convertit en minuscules                                | `\"Python\".lower()` → `\"python\"`                            |\n",
    "| `str.upper()`      | Convertit en majuscules                                | `\"Python\".upper()` → `\"PYTHON\"`                            |\n",
    "| `str.capitalize()` | Met la 1ère lettre en majuscule, le reste en minuscule | `\"python est génial\".capitalize()` → `\"Python est génial\"` |\n",
    "| `str.title()`      | Met la 1ère lettre de chaque mot en majuscule          | `\"python est génial\".title()` → `\"Python Est Génial\"`      |\n",
    "| `str.swapcase()`   | Inverse la casse                                       | `\"PyThOn\".swapcase()` → `\"pYtHoN\"`                         |\n",
    "\n",
    "---\n",
    "\n",
    "### 🧹 **Nettoyage et suppression**\n",
    "\n",
    "| Méthode                 | Description                               | Exemple                                                 |\n",
    "| ----------------------- | ----------------------------------------- | ------------------------------------------------------- |\n",
    "| `str.strip()`           | Supprime les espaces en début et fin      | `\"  Hello  \".strip()` → `\"Hello\"`                       |\n",
    "| `str.lstrip()`          | Supprime les espaces en début de chaîne   | `\"  Hello\".lstrip()` → `\"Hello\"`                        |\n",
    "| `str.rstrip()`          | Supprime les espaces en fin de chaîne     | `\"Hello  \".rstrip()` → `\"Hello\"`                        |\n",
    "| `str.replace(old, new)` | Remplace un mot/une portion par une autre | `\"chat noir\".replace(\"noir\", \"blanc\")` → `\"chat blanc\"` |\n",
    "\n",
    "---\n",
    "\n",
    "### 🔍 **Recherche et vérification**\n",
    "\n",
    "| Méthode                   | Description                                        | Exemple                                |\n",
    "| ------------------------- | -------------------------------------------------- | -------------------------------------- |\n",
    "| `in`                      | Vérifie si une sous-chaîne est présente            | `\"chat\" in \"chat noir\"` → `True`       |\n",
    "| `str.find(sous_chaine)`   | Donne l'index de la sous-chaîne (ou -1)            | `\"python\".find(\"th\")` → `2`            |\n",
    "| `str.index(sous_chaine)`  | Comme `find()` mais lève une erreur si non trouvée | `\"python\".index(\"th\")` → `2`           |\n",
    "| `str.startswith(prefixe)` | Vérifie si la chaîne commence par `prefixe`        | `\"Bonjour\".startswith(\"Bon\")` → `True` |\n",
    "| `str.endswith(suffixe)`   | Vérifie si elle finit par `suffixe`                | `\"Bonjour\".endswith(\"jour\")` → `True`  |\n",
    "\n",
    "---\n",
    "\n",
    "### ✂️ **Découpage**\n",
    "\n",
    "| Méthode              | Description                                   | Exemple                                    |\n",
    "| -------------------- | --------------------------------------------- | ------------------------------------------ |\n",
    "| `str.split(sep)`     | Coupe la chaîne en liste selon un séparateur  | `\"a,b,c\".split(\",\")` → `[\"a\", \"b\", \"c\"]`   |\n",
    "| `str.rsplit(sep)`    | Comme `split` mais à partir de la fin         | `\"a,b,c\".rsplit(\",\", 1)` → `[\"a,b\", \"c\"]`  |\n",
    "| `str.partition(sep)` | Coupe en 3 parties : avant, séparateur, après | `\"a=b\".partition(\"=\")` → `(\"a\", \"=\", \"b\")` |\n",
    "| `str.join(liste)`    | Joint une liste en une chaîne avec séparateur | `\",\".join([\"a\", \"b\", \"c\"])` → `\"a,b,c\"`    |\n",
    "\n",
    "---\n",
    "\n",
    "### 🧪 **Tests (booléens)**\n",
    "\n",
    "| Méthode         | Description                                       | Exemple                                  |\n",
    "| --------------- | ------------------------------------------------- | ---------------------------------------- |\n",
    "| `str.isalpha()` | Vrai si uniquement lettres                        | `\"abc\".isalpha()` → `True`               |\n",
    "| `str.isdigit()` | Vrai si uniquement chiffres                       | `\"123\".isdigit()` → `True`               |\n",
    "| `str.isalnum()` | Lettres ou chiffres                               | `\"abc123\".isalnum()` → `True`            |\n",
    "| `str.isspace()` | Uniquement espaces                                | `\"   \".isspace()` → `True`               |\n",
    "| `str.islower()` | Toute en minuscules                               | `\"python\".islower()` → `True`            |\n",
    "| `str.isupper()` | Toute en majuscules                               | `\"PYTHON\".isupper()` → `True`            |\n",
    "| `str.istitle()` | Titre correct (chaque mot commence par majuscule) | `\"Python Est Génial\".istitle()` → `True` |\n",
    "\n",
    "---\n",
    "\n",
    "### 🧩 **Autres utiles**\n",
    "\n",
    "| Méthode                  | Description                      | Exemple                       |\n",
    "| ------------------------ | -------------------------------- | ----------------------------- |\n",
    "| `len(str)`               | Longueur de la chaîne            | `len(\"Python\")` → `6`         |\n",
    "| `str.count(sous_chaine)` | Compte les occurrences           | `\"banana\".count(\"a\")` → `3`   |\n",
    "| `str.zfill(n)`           | Complète à gauche avec des zéros | `\"42\".zfill(5)` → `\"00042\"`   |\n",
    "| `str.center(n)`          | Centre dans une largeur donnée   | `\"Hi\".center(6)` → `\"  Hi  \"` |\n"
   ]
  },
  {
   "cell_type": "markdown",
   "id": "7e5c5de5-5c65-4ac8-986b-516aa06e7f5a",
   "metadata": {
    "jp-MarkdownHeadingCollapsed": true
   },
   "source": [
    "#### 5.📏 Longueur d’une chaîne"
   ]
  },
  {
   "cell_type": "code",
   "execution_count": 73,
   "id": "ad899e94-5e86-47d5-9750-af49fac824d2",
   "metadata": {},
   "outputs": [
    {
     "name": "stdout",
     "output_type": "stream",
     "text": [
      "7\n"
     ]
    }
   ],
   "source": [
    "texte = \"Bonjour\"\n",
    "print(len(texte))  # 7"
   ]
  },
  {
   "cell_type": "markdown",
   "id": "111263df-51b1-4ef7-bfdf-df9212890f41",
   "metadata": {
    "jp-MarkdownHeadingCollapsed": true
   },
   "source": [
    "#### 6. 🔍 Chercher dans une chaîne"
   ]
  },
  {
   "cell_type": "code",
   "execution_count": 75,
   "id": "8ed2c17c-6435-47aa-b926-266c23991a7a",
   "metadata": {},
   "outputs": [
    {
     "name": "stdout",
     "output_type": "stream",
     "text": [
      "True\n",
      "True\n",
      "11\n"
     ]
    }
   ],
   "source": [
    "phrase = \"Python est facile à apprendre\"\n",
    "\n",
    "print(phrase.startswith(\"Python\"))   # True\n",
    "print(phrase.endswith(\"apprendre\"))  # True\n",
    "print(phrase.find(\"facile\"))         # 10 (position)\n"
   ]
  },
  {
   "cell_type": "markdown",
   "id": "725c6e7e-bd62-455f-838c-e7a19770a3e9",
   "metadata": {
    "jp-MarkdownHeadingCollapsed": true
   },
   "source": [
    "#### 7. 🧱 Diviser et joindre"
   ]
  },
  {
   "cell_type": "markdown",
   "id": "a3c0f84f-8fdd-4a23-8586-467f1455f767",
   "metadata": {},
   "source": [
    "##### 🔹 Diviser avec split()"
   ]
  },
  {
   "cell_type": "code",
   "execution_count": 77,
   "id": "50150d24-d0a5-4499-982d-755ac3c378f0",
   "metadata": {},
   "outputs": [
    {
     "name": "stdout",
     "output_type": "stream",
     "text": [
      "['un', 'deux', 'trois']\n"
     ]
    }
   ],
   "source": [
    "phrase = \"un deux trois\"\n",
    "mots = phrase.split()  # ['un', 'deux', 'trois']\n",
    "print(mots)"
   ]
  },
  {
   "cell_type": "markdown",
   "id": "63660e13-7607-40c0-8fed-16072d9129b2",
   "metadata": {
    "jp-MarkdownHeadingCollapsed": true
   },
   "source": [
    "##### 🔹 Joindre avec join()"
   ]
  },
  {
   "cell_type": "code",
   "execution_count": 81,
   "id": "b956ab01-eb11-4e03-9333-4f5c86c9c002",
   "metadata": {},
   "outputs": [
    {
     "name": "stdout",
     "output_type": "stream",
     "text": [
      "un_deux_trois\n"
     ]
    }
   ],
   "source": [
    "liste = ['un', 'deux', 'trois']\n",
    "phrase = \"_\".join(liste)\n",
    "print(phrase)  # un-deux-trois"
   ]
  },
  {
   "cell_type": "markdown",
   "id": "0eb6bd94-f863-44fd-abd4-93963b6b0d32",
   "metadata": {},
   "source": [
    "# Les fonctions"
   ]
  },
  {
   "cell_type": "markdown",
   "id": "21db7bf3-3520-4ffc-8f77-6ae4588e2a18",
   "metadata": {
    "jp-MarkdownHeadingCollapsed": true
   },
   "source": [
    "### 1. 🧾 Qu’est-ce qu’une fonction ?\n",
    "Une fonction est un bloc de code qui effectue une tâche précise. Elle peut prendre des paramètres, exécuter des instructions, puis retourner un résultat.\n",
    "\n"
   ]
  },
  {
   "cell_type": "markdown",
   "id": "73a8a789-0eae-4844-a444-d7bf7916ea4c",
   "metadata": {},
   "source": [
    "### 2. 🛠️ Créer une fonction simple"
   ]
  },
  {
   "cell_type": "code",
   "execution_count": 93,
   "id": "040a18d8-7401-448f-a3e7-e6f84a5e6658",
   "metadata": {},
   "outputs": [
    {
     "name": "stdout",
     "output_type": "stream",
     "text": [
      "Bonjour !\n"
     ]
    }
   ],
   "source": [
    "def saluer():\n",
    "    print(\"Bonjour !\")\n",
    "\n",
    "# ▶️ Appeler la fonction \n",
    "saluer()"
   ]
  },
  {
   "cell_type": "markdown",
   "id": "72aa5d63-fd17-4182-88d0-eb3c78cbb468",
   "metadata": {},
   "source": [
    "### 3. 📥 Ajouter des paramètres"
   ]
  },
  {
   "cell_type": "code",
   "execution_count": 98,
   "id": "5ee6cf3e-6eb1-4405-937f-01a82fbec96d",
   "metadata": {},
   "outputs": [
    {
     "name": "stdout",
     "output_type": "stream",
     "text": [
      "Bonjour, Djibril SAWADOGO  !\n"
     ]
    }
   ],
   "source": [
    "def bonjour(nom, prenom):\n",
    "    print(f\"Bonjour, {prenom} {nom} !\")\n",
    "\n",
    "# Appel de la fonction\n",
    "bonjour(\"SAWADOGO\", \"Djibril\")"
   ]
  },
  {
   "cell_type": "markdown",
   "id": "e4f7c223-8c6f-43af-85cc-e1a991ddd5c5",
   "metadata": {},
   "source": [
    "### 4. 📤 Retourner une valeur"
   ]
  },
  {
   "cell_type": "code",
   "execution_count": 88,
   "id": "bbfe6592-d8d4-4f8d-ad4a-36f2f9106192",
   "metadata": {},
   "outputs": [
    {
     "name": "stdout",
     "output_type": "stream",
     "text": [
      "16\n"
     ]
    }
   ],
   "source": [
    "def carre(nombre):\n",
    "    return nombre * nombre\n",
    "    \n",
    "\n",
    "# Utiliser le résultat\n",
    "resultat = carre(4)\n",
    "print(resultat)  # 16\n"
   ]
  },
  {
   "cell_type": "markdown",
   "id": "88e1d418-e5ca-45d0-a0fd-24d06c6ea5ee",
   "metadata": {
    "jp-MarkdownHeadingCollapsed": true
   },
   "source": [
    "### 5. 📦 Paramètres multiples"
   ]
  },
  {
   "cell_type": "code",
   "execution_count": 120,
   "id": "62d1cbba-a204-45a7-8d18-377411a010fa",
   "metadata": {},
   "outputs": [
    {
     "name": "stdout",
     "output_type": "stream",
     "text": [
      "Note finale 18\n"
     ]
    }
   ],
   "source": [
    "def plus(note, a=1):\n",
    "    return note + a\n",
    "\n",
    "# Appel de fonction\n",
    "resultat = plus(note=14, a=4)\n",
    "print(f\"Note finale {resultat}\")"
   ]
  },
  {
   "cell_type": "markdown",
   "id": "984ebb95-c47e-4bb3-8e67-da7eb1d8d869",
   "metadata": {
    "jp-MarkdownHeadingCollapsed": true
   },
   "source": [
    "### 6. 🧰 Valeurs par défaut"
   ]
  },
  {
   "cell_type": "code",
   "execution_count": 105,
   "id": "8d8213e7-20c8-4319-9942-6b54e4670c52",
   "metadata": {},
   "outputs": [
    {
     "name": "stdout",
     "output_type": "stream",
     "text": [
      "Salut Noé !\n"
     ]
    }
   ],
   "source": [
    "def saluer(nom=\"ami\"):\n",
    "    print(f\"Salut {nom} !\")\n",
    "\n",
    "# Appel de fonction \n",
    "# saluer(\"Emma\")  \n",
    "saluer(nom=\"Noé\")       "
   ]
  },
  {
   "cell_type": "markdown",
   "id": "ffaa7d53-2ff7-4f7f-bb93-55f8720d3981",
   "metadata": {
    "jp-MarkdownHeadingCollapsed": true
   },
   "source": [
    "### 🧠 Avantages des fonctions\n",
    "- ✅ Organiser le code\n",
    "- ✅ Éviter la répétition\n",
    "- ✅ Réutiliser facilement du code\n",
    "- ✅ Simplifier les tests"
   ]
  },
  {
   "cell_type": "markdown",
   "id": "c55f391d-d73b-4529-acef-ce9eb9029dfb",
   "metadata": {},
   "source": [
    "### 🔁 Exemple complet"
   ]
  },
  {
   "cell_type": "code",
   "execution_count": 92,
   "id": "aff599df-6696-4d47-8c4c-3f2aefc1ef60",
   "metadata": {},
   "outputs": [
    {
     "name": "stdout",
     "output_type": "stream",
     "text": [
      "25°C = 77.0°F\n"
     ]
    }
   ],
   "source": [
    "def convertir_celsius_en_fahrenheit(celsius):\n",
    "    fahrenheit = celsius * 9 / 5 + 32\n",
    "    return fahrenheit\n",
    "\n",
    "temp = convertir_celsius_en_fahrenheit(25)\n",
    "print(f\"25°C = {temp}°F\")\n"
   ]
  },
  {
   "cell_type": "code",
   "execution_count": 108,
   "id": "b001c2d9-eda1-49d4-b7f6-2411fcef6859",
   "metadata": {},
   "outputs": [
    {
     "name": "stdout",
     "output_type": "stream",
     "text": [
      "2\n"
     ]
    }
   ],
   "source": [
    "def est_pair(n):\n",
    "    if n % 2 == 0:\n",
    "        return True\n",
    "    else:\n",
    "        return False\n",
    "\n",
    "print(est_pair(4))"
   ]
  },
  {
   "cell_type": "markdown",
   "id": "025993a9-24e5-4744-997d-37469abaefdc",
   "metadata": {},
   "source": [
    "# Les Modules"
   ]
  },
  {
   "cell_type": "markdown",
   "id": "31e48d62-a34e-496c-97ec-797a27e71511",
   "metadata": {
    "jp-MarkdownHeadingCollapsed": true
   },
   "source": [
    "### 1. 🔍 Qu’est-ce qu’un module ?\n",
    "Un module est un fichier Python (.py) qui contient des fonctions, des variables, ou des classes. Il permet de réutiliser du code sans tout réécrire."
   ]
  },
  {
   "cell_type": "markdown",
   "id": "098e6cd9-b6de-4696-9303-c78b5e0b9149",
   "metadata": {
    "jp-MarkdownHeadingCollapsed": true
   },
   "source": [
    "### 2. 📥 Utiliser un module standard\n",
    "Python propose plein de modules intégrés (standard) qu’on peut utiliser directement avec *import*"
   ]
  },
  {
   "cell_type": "code",
   "execution_count": 97,
   "id": "d4d708ce-6c99-4795-9931-5bc7d7db568d",
   "metadata": {},
   "outputs": [
    {
     "name": "stdout",
     "output_type": "stream",
     "text": [
      "4.0\n",
      "3.141592653589793\n"
     ]
    }
   ],
   "source": [
    "import math\n",
    "\n",
    "print(math.sqrt(16))   \n",
    "print(math.pi)        \n"
   ]
  },
  {
   "cell_type": "markdown",
   "id": "92864a93-b7f1-4013-b52c-61d327b16554",
   "metadata": {},
   "source": [
    "### 3. 📌 Importer seulement une partie"
   ]
  },
  {
   "cell_type": "code",
   "execution_count": 98,
   "id": "a547726d-d40d-4524-a97e-0c413e9a06c3",
   "metadata": {},
   "outputs": [
    {
     "name": "stdout",
     "output_type": "stream",
     "text": [
      "5.0\n",
      "3.141592653589793\n"
     ]
    }
   ],
   "source": [
    "from math import sqrt, pi\n",
    "\n",
    "print(sqrt(25)) \n",
    "print(pi)      \n"
   ]
  },
  {
   "cell_type": "markdown",
   "id": "cc133192-4a71-45e0-a55f-b1e42cc154b2",
   "metadata": {},
   "source": [
    "##### Tu peux aussi renommer"
   ]
  },
  {
   "cell_type": "code",
   "execution_count": 99,
   "id": "c2aaeaa8-5236-417c-81c6-4360d09afd6b",
   "metadata": {},
   "outputs": [
    {
     "name": "stdout",
     "output_type": "stream",
     "text": [
      "0.0\n"
     ]
    }
   ],
   "source": [
    "import math as m\n",
    "\n",
    "print(m.sin(0))  "
   ]
  },
  {
   "cell_type": "markdown",
   "id": "a58f6a63-de52-4749-abe6-57aae22dd4c7",
   "metadata": {},
   "source": [
    "### 4. ✏️ Créer ton propre module"
   ]
  },
  {
   "cell_type": "code",
   "execution_count": 116,
   "id": "2163f9b2-31bd-446d-aad3-7ca13f4335a5",
   "metadata": {},
   "outputs": [
    {
     "name": "stdout",
     "output_type": "stream",
     "text": [
      "Bonjour, Amin !\n"
     ]
    }
   ],
   "source": [
    "# import digiscia \n",
    "from digiscia import bonjour\n",
    "# import module1\n",
    "# import module2\n",
    "# import module3\n",
    "\n",
    "print(bonjour(\"Amin\"))"
   ]
  },
  {
   "cell_type": "code",
   "execution_count": 118,
   "id": "73e824ec-79be-4fde-ad10-07e8dbebbf4c",
   "metadata": {},
   "outputs": [
    {
     "name": "stdout",
     "output_type": "stream",
     "text": [
      "12\n"
     ]
    }
   ],
   "source": [
    "# import digiscia as j\n",
    "from digiscia import addition\n",
    "print(addition(6, 6))"
   ]
  },
  {
   "cell_type": "markdown",
   "id": "5668ba00-26bc-454a-a6d1-5b2fa54efdde",
   "metadata": {},
   "source": [
    "| Module     | Utilité                                 |\n",
    "| ---------- | --------------------------------------- |\n",
    "| `math`     | Fonctions mathématiques                 |\n",
    "| `random`   | Génération aléatoire                    |\n",
    "| `datetime` | Dates et heures                         |\n",
    "| `os`       | Interaction avec le système de fichiers |\n",
    "| `sys`      | Paramètres et infos système             |"
   ]
  },
  {
   "cell_type": "code",
   "execution_count": 109,
   "id": "fd6f1973-1cea-4a07-bb93-2116a18e2e7a",
   "metadata": {},
   "outputs": [
    {
     "name": "stdout",
     "output_type": "stream",
     "text": [
      "Nombre aléatoire : 3\n"
     ]
    }
   ],
   "source": [
    "import random\n",
    "\n",
    "n = random.randint(1, 6)\n",
    "print(\"Nombre aléatoire :\", n)\n"
   ]
  },
  {
   "cell_type": "markdown",
   "id": "56dbf9cd-f025-4baa-9c38-f1ae0b495cfc",
   "metadata": {
    "jp-MarkdownHeadingCollapsed": true
   },
   "source": [
    "### 5. 📦 Installer des modules externes\n",
    "Certains modules ne sont pas inclus de base et doivent être installés avec pip."
   ]
  },
  {
   "cell_type": "code",
   "execution_count": 121,
   "id": "e50114fe-69e4-4ee1-a1ef-a853f92c5b98",
   "metadata": {},
   "outputs": [
    {
     "name": "stdout",
     "output_type": "stream",
     "text": [
      "Requirement already satisfied: requests in c:\\users\\dell\\appdata\\local\\programs\\python\\python39\\lib\\site-packages (2.32.3)\n",
      "Requirement already satisfied: charset-normalizer<4,>=2 in c:\\users\\dell\\appdata\\local\\programs\\python\\python39\\lib\\site-packages (from requests) (3.4.2)\n",
      "Requirement already satisfied: idna<4,>=2.5 in c:\\users\\dell\\appdata\\local\\programs\\python\\python39\\lib\\site-packages (from requests) (3.10)\n",
      "Requirement already satisfied: urllib3<3,>=1.21.1 in c:\\users\\dell\\appdata\\local\\programs\\python\\python39\\lib\\site-packages (from requests) (2.4.0)\n",
      "Requirement already satisfied: certifi>=2017.4.17 in c:\\users\\dell\\appdata\\local\\programs\\python\\python39\\lib\\site-packages (from requests) (2025.4.26)\n"
     ]
    },
    {
     "name": "stderr",
     "output_type": "stream",
     "text": [
      "\n",
      "[notice] A new release of pip is available: 25.1.1 -> 25.2\n",
      "[notice] To update, run: c:\\Users\\Dell\\AppData\\Local\\Programs\\Python\\Python39\\python.exe -m pip install --upgrade pip\n"
     ]
    }
   ],
   "source": [
    "!pip install requests"
   ]
  },
  {
   "cell_type": "code",
   "execution_count": 122,
   "id": "5cd29bc1-9969-4b4f-b2ba-11b42b6e4812",
   "metadata": {},
   "outputs": [
    {
     "name": "stdout",
     "output_type": "stream",
     "text": [
      "200\n"
     ]
    }
   ],
   "source": [
    "import requests\n",
    "\n",
    "response = requests.get(\"https://api.github.com\")\n",
    "print(response.status_code)"
   ]
  },
  {
   "cell_type": "markdown",
   "id": "16a01e57-9d82-42f8-b06d-7c42f818230a",
   "metadata": {},
   "source": [
    "| Action                | Syntaxe                          |\n",
    "| --------------------- | -------------------------------- |\n",
    "| Importer un module    | `import math`                    |\n",
    "| Importer une partie   | `from math import sqrt`          |\n",
    "| Renommer un module    | `import math as m`               |\n",
    "| Créer un module perso | fichier `.py` avec tes fonctions |\n",
    "| Installer un module   | `pip install digiscia`         |\n"
   ]
  },
  {
   "cell_type": "markdown",
   "id": "6d8901c5-69a6-4fac-afc9-5424c0bcdf80",
   "metadata": {},
   "source": [
    "# Exercices "
   ]
  },
  {
   "cell_type": "markdown",
   "id": "a845dd2d-f49e-4685-b4a6-1a0d4303a619",
   "metadata": {},
   "source": [
    "### 🧩 **Exercice 1 – Gestion d’un panier d’épicerie**\n",
    "\n",
    "**Objectif pédagogique :** Manipuler des listes, dictionnaires, boucles, conditions et fonctions.\n",
    "\n",
    "**Contexte :** Tu construis un mini-système de panier pour un magasin.\n",
    "\n",
    "#### 🔧 Instructions :\n",
    "\n",
    "1. Crée un dictionnaire `catalogue` qui contient des produits avec leurs prix :\n",
    "\n",
    "   ```python\n",
    "   catalogue = {\n",
    "       \"pomme\": 0.5,\n",
    "       \"banane\": 0.3,\n",
    "       \"lait\": 1.2,\n",
    "       \"pain\": 1.0\n",
    "   }\n",
    "   ```\n",
    "\n",
    "2. Crée une fonction `ajouter_au_panier(panier, produit)` qui :\n",
    "\n",
    "   * Vérifie si le produit est dans le catalogue\n",
    "   * Si oui, l’ajoute au panier (une liste) et retourne un message\n",
    "   * Sinon, affiche une erreur\n",
    "\n",
    "3. Crée une fonction `afficher_total(panier)` qui :\n",
    "\n",
    "   * Parcourt le panier\n",
    "   * Calcule et affiche le prix total\n",
    "\n",
    "4. Simule un utilisateur qui ajoute plusieurs produits, puis affiche le total.\n",
    "\n",
    "#### ✅ Compétences mobilisées :\n",
    "\n",
    "* Dictionnaires (catalogue)\n",
    "* Listes (panier)\n",
    "* Fonctions\n",
    "* Conditions (`if produit in catalogue`)\n",
    "* Boucles (`for produit in panier`)"
   ]
  },
  {
   "cell_type": "code",
   "execution_count": 123,
   "id": "2847115f-4f49-445c-a422-f2ac8c275ee2",
   "metadata": {},
   "outputs": [
    {
     "name": "stdout",
     "output_type": "stream",
     "text": [
      "pomme ajouté au panier.\n",
      "lait ajouté au panier.\n",
      "Produit inconnu : chocolat\n",
      "pain ajouté au panier.\n",
      "\n",
      "Panier final : ['pomme', 'lait', 'pain']\n",
      "Total à payer : 2.70 €\n"
     ]
    }
   ],
   "source": [
    "# Dictionnaire de produits avec leurs prix\n",
    "catalogue = {\n",
    "    \"pomme\": 0.5,\n",
    "    \"banane\": 0.3,\n",
    "    \"lait\": 1.2,\n",
    "    \"pain\": 1.0\n",
    "}\n",
    "\n",
    "# Fonction pour ajouter un produit au panier\n",
    "def ajouter_au_panier(panier, produit):\n",
    "    if produit in catalogue:\n",
    "        panier.append(produit)  # On ajoute le produit à la liste\n",
    "        print(f\"{produit} ajouté au panier.\")\n",
    "    else:\n",
    "        print(f\"Produit inconnu : {produit}\")\n",
    "\n",
    "# Fonction pour afficher le total du panier\n",
    "def afficher_total(panier):\n",
    "    total = 0\n",
    "    for produit in panier:\n",
    "        total = total + catalogue[produit]  # On récupère le prix depuis le dictionnaire\n",
    "    print(f\"Total à payer : {total} €\")\n",
    "\n",
    "# Simulation d'utilisation\n",
    "mon_panier = []\n",
    "ajouter_au_panier(mon_panier, \"pomme\")\n",
    "ajouter_au_panier(mon_panier, \"lait\")\n",
    "ajouter_au_panier(mon_panier, \"chocolat\")  # Produit inconnu\n",
    "ajouter_au_panier(mon_panier, \"pain\")\n",
    "\n",
    "print(\"\\nPanier final :\", mon_panier)\n",
    "afficher_total(mon_panier)\n"
   ]
  },
  {
   "cell_type": "markdown",
   "id": "62e77b78-2e63-4c75-8e6e-03f0656b0411",
   "metadata": {},
   "source": [
    "---\n",
    "\n",
    "### 🧩 **Exercice 2 – Système de notes et moyenne générale**\n",
    "\n",
    "**Objectif pédagogique :** Comprendre les structures imbriquées, la logique métier simple, et le découpage en fonctions.\n",
    "\n",
    "#### 🔧 Instructions :\n",
    "\n",
    "1. Crée un dictionnaire `etudiants` de la forme suivante :\n",
    "\n",
    "   ```python\n",
    "   etudiants = {\n",
    "       \"Alice\": [15, 14, 13],\n",
    "       \"Bob\": [10, 12, 9],\n",
    "       \"Chloé\": [18, 17, 16]\n",
    "   }\n",
    "   ```\n",
    "\n",
    "2. Crée une fonction `moyenne(notes)` qui retourne la moyenne d’une liste de notes.\n",
    "\n",
    "3. Crée une fonction `afficher_bulletins(etudiants)` qui :\n",
    "\n",
    "   * Affiche pour chaque étudiant sa moyenne\n",
    "   * Affiche un commentaire personnalisé selon la moyenne :\n",
    "\n",
    "     * ≥ 15 : \"Très bien\"\n",
    "     * ≥ 10 : \"Peut mieux faire\"\n",
    "     * < 10 : \"En difficulté\"\n",
    "\n",
    "#### ✅ Compétences mobilisées :\n",
    "\n",
    "* Dictionnaires imbriqués\n",
    "* Boucles imbriquées\n",
    "* Fonctions\n",
    "* Conditions multiples (`if`, `elif`, `else`)\n",
    "\n",
    "---"
   ]
  },
  {
   "cell_type": "code",
   "execution_count": null,
   "id": "2ab69131-9dec-42df-9117-b88fb29db902",
   "metadata": {},
   "outputs": [],
   "source": [
    "# Dictionnaire contenant les étudiants et leurs listes de notes\n",
    "etudiants = {\n",
    "    \"Alice\": [15, 14, 13],\n",
    "    \"Bob\": [10, 12, 9],\n",
    "    \"Chloé\": [18, 17, 16]\n",
    "}\n",
    "\n",
    "# Fonction pour calculer la moyenne d'une liste\n",
    "def moyenne(notes):\n",
    "    if len(notes) == 0:\n",
    "        return 0\n",
    "    return sum(notes) / len(notes)\n",
    "\n",
    "# Fonction pour afficher les bulletins\n",
    "def afficher_bulletins(etudiants):\n",
    "    for nom, notes in etudiants.items():\n",
    "        moy = moyenne(notes)\n",
    "        print(f\"{nom} : moyenne = {moy:.2f}\")\n",
    "\n",
    "        # Commentaire selon la moyenne\n",
    "        if moy >= 15:\n",
    "            print(\"🟢 Très bien\")\n",
    "        elif moy >= 10:\n",
    "            print(\"🟡 Peut mieux faire\")\n",
    "        else:\n",
    "            print(\"🔴 En difficulté\")\n",
    "        print(\"-\" * 30)\n",
    "\n",
    "# Appel de la fonction\n",
    "afficher_bulletins(etudiants)\n"
   ]
  },
  {
   "cell_type": "markdown",
   "id": "ec08e66b-5087-47f1-9a9f-b486736b3b66",
   "metadata": {},
   "source": [
    "### 🧩 **Exercice 3 – Générateur de mots de passe personnalisés (module `random`)**\n",
    "\n",
    "**Objectif pédagogique :** Introduire les modules standard + manipuler chaînes, listes, boucles, fonctions.\n",
    "\n",
    "#### 🔧 Instructions :\n",
    "\n",
    "1. Crée une fonction `generer_mot_de_passe(longueur, utiliser_chiffres=True, utiliser_symboles=False)` :\n",
    "\n",
    "   * Utilise le module `random` et les constantes `string.ascii_letters`, `string.digits`, `string.punctuation`.\n",
    "   * Génére un mot de passe aléatoire selon les options.\n",
    "\n",
    "2. Permets à l’utilisateur de :\n",
    "\n",
    "   * Choisir la longueur du mot de passe\n",
    "   * Dire s’il veut des chiffres et/ou des symboles\n",
    "\n",
    "3. Gère les cas d’erreurs (longueur < 4, mauvais type, etc.)\n",
    "\n",
    "#### Exemple d’appel :\n",
    "\n",
    "```python\n",
    "mot_de_passe = generer_mot_de_passe(12, utiliser_chiffres=True, utiliser_symboles=True)\n",
    "print(\"Mot de passe généré :\", mot_de_passe)\n",
    "```\n",
    "\n",
    "#### ✅ Compétences mobilisées :\n",
    "\n",
    "* Fonctions avec paramètres par défaut\n",
    "* Import de module (`import random`, `import string`)\n",
    "* Manipulation de chaînes\n",
    "* Conditions et boucles\n",
    "\n",
    "---"
   ]
  },
  {
   "cell_type": "code",
   "execution_count": null,
   "id": "12aae4c6-39d8-4198-8df0-c7b46fcd66fa",
   "metadata": {},
   "outputs": [],
   "source": [
    "import random\n",
    "import string\n",
    "\n",
    "# Fonction pour générer un mot de passe selon les critères\n",
    "def generer_mot_de_passe(longueur, utiliser_chiffres=True, utiliser_symboles=False):\n",
    "    if longueur < 4:\n",
    "        return \"Erreur : longueur trop courte (min. 4)\"\n",
    "\n",
    "    caracteres = list(string.ascii_letters)  # Lettres minuscules et majuscules\n",
    "\n",
    "    if utiliser_chiffres:\n",
    "        caracteres += list(string.digits)\n",
    "\n",
    "    if utiliser_symboles:\n",
    "        caracteres += list(string.punctuation)\n",
    "\n",
    "    mot_de_passe = ''.join(random.choice(caracteres) for _ in range(longueur))\n",
    "    return mot_de_passe\n",
    "\n",
    "# Exemples d’utilisation\n",
    "print(\"Mot de passe simple :\", generer_mot_de_passe(10))\n",
    "print(\"Mot de passe avec chiffres :\", generer_mot_de_passe(12, utiliser_chiffres=True))\n",
    "print(\"Mot de passe complexe :\", generer_mot_de_passe(16, utiliser_chiffres=True, utiliser_symboles=True))\n"
   ]
  }
 ],
 "metadata": {
  "kernelspec": {
   "display_name": "Python 3 (ipykernel)",
   "language": "python",
   "name": "python3"
  },
  "language_info": {
   "codemirror_mode": {
    "name": "ipython",
    "version": 3
   },
   "file_extension": ".py",
   "mimetype": "text/x-python",
   "name": "python",
   "nbconvert_exporter": "python",
   "pygments_lexer": "ipython3",
   "version": "3.13.4"
  }
 },
 "nbformat": 4,
 "nbformat_minor": 5
}
