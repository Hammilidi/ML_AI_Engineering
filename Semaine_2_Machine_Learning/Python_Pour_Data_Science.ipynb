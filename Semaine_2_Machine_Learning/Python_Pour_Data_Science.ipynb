{
 "cells": [
  {
   "cell_type": "markdown",
   "id": "c9864b05-f11a-45a7-9b38-269cf54004c2",
   "metadata": {
    "jp-MarkdownHeadingCollapsed": true
   },
   "source": [
    "# Objectifs Pédagogiques & Compétences Visées"
   ]
  },
  {
   "cell_type": "markdown",
   "id": "a409b1ca-f9af-4b28-963f-25b1429bf26b",
   "metadata": {
    "jp-MarkdownHeadingCollapsed": true
   },
   "source": [
    "### 🎯 Objectifs du module : *Python pour la Data Science*\n",
    "\n",
    "Ce module vise à fournir les bases pratiques et théoriques nécessaires pour **manipuler, analyser et visualiser des données** à l’aide de Python et de ses bibliothèques phares. À l’issue du module, l’apprenant sera capable de :\n",
    "\n",
    "---\n",
    "\n",
    "#### 📌 Objectifs généraux\n",
    "\n",
    "- Comprendre et appliquer la **démarche CRISP-DM** dans un projet data.\n",
    "- Utiliser **Python** et ses bibliothèques pour la **Data Science**.\n",
    "- Réaliser une **analyse exploratoire de données complète** : chargement, nettoyage, visualisation et interprétation.\n",
    "\n",
    "---\n",
    "\n",
    "#### 🧠 Compétences ciblées\n",
    "\n",
    "##### 1. Fondamentaux Python pour la Data Science\n",
    "- Manipuler des structures de données avec **NumPy** (vecteurs, matrices, calculs vectorisés).\n",
    "- Manipuler des **DataFrames** avec **Pandas** (chargement, filtrage, groupement, jointures, opérations).\n",
    "\n",
    "##### 2. Statistiques de base\n",
    "- Calculer et interpréter des **mesures de tendance centrale** (moyenne, médiane), de dispersion (écart-type, variance).\n",
    "- Réaliser des analyses statistiques descriptives.\n",
    "\n",
    "##### 3. Visualisation de données\n",
    "- Créer des graphiques clairs et pertinents avec **Matplotlib** (courbes, histogrammes, barplots…).\n",
    "- Explorer des relations et distributions avec **Seaborn** (boxplots, heatmaps, pairplots, etc.).\n",
    "\n",
    "##### 4. Cycle CRISP-DM appliqué\n",
    "- Identifier une problématique métier.\n",
    "- Formuler des hypothèses sur les données.\n",
    "- Construire une stratégie d’exploration et de nettoyage des données.\n",
    "- Réaliser une **analyse exploratoire complète** jusqu’à la communication des résultats.\n",
    "\n",
    "---\n",
    "\n",
    "#### 📊 Projet fil rouge\n",
    "\n",
    "Tout au long du module, un projet guidé vous permettra de :\n",
    "\n",
    "1. **Charger et explorer un jeu de données réel**\n",
    "2. **Nettoyer et préparer les données**\n",
    "3. **Analyser et visualiser les patterns importants**\n",
    "4. **Tirer des insights métier exploitables**\n",
    "\n",
    "---\n",
    "\n",
    "✅ À l’issue du module, vous serez capable de lancer seul(e) une **analyse de données de A à Z**, en appliquant les **bonnes pratiques** du métier de data analyst ou data scientist junior.\n"
   ]
  },
  {
   "cell_type": "markdown",
   "id": "667ceff7-6784-46eb-9f31-60bb2d8f7aa0",
   "metadata": {},
   "source": [
    "# Numpy Pour Le Machine Learning"
   ]
  },
  {
   "cell_type": "markdown",
   "id": "4dd723f8-86f4-434a-b5bb-78027517e195",
   "metadata": {},
   "source": [
    "### 1. ⚙️ Installation"
   ]
  },
  {
   "cell_type": "code",
   "execution_count": 1,
   "id": "a9af3339-96a3-44fa-93ec-0d6f925ad7e1",
   "metadata": {},
   "outputs": [
    {
     "name": "stdout",
     "output_type": "stream",
     "text": [
      "Requirement already satisfied: numpy in c:\\users\\dell\\appdata\\local\\programs\\python\\python39\\lib\\site-packages (1.26.4)\n"
     ]
    },
    {
     "name": "stderr",
     "output_type": "stream",
     "text": [
      "\n",
      "[notice] A new release of pip is available: 25.1.1 -> 25.2\n",
      "[notice] To update, run: c:\\Users\\Dell\\AppData\\Local\\Programs\\Python\\Python39\\python.exe -m pip install --upgrade pip\n"
     ]
    }
   ],
   "source": [
    "!pip install numpy"
   ]
  },
  {
   "cell_type": "code",
   "execution_count": 3,
   "id": "66abe2ae-b93a-4e95-953e-78fdf675d942",
   "metadata": {},
   "outputs": [],
   "source": [
    "import numpy as np"
   ]
  },
  {
   "cell_type": "markdown",
   "id": "31a9257f-a9c5-48e4-a2ee-0d2ee00392fa",
   "metadata": {},
   "source": [
    "### 2. 🧱 Création de tableaux"
   ]
  },
  {
   "cell_type": "markdown",
   "id": "2078bdbd-1d5e-45d3-98c5-19eaf2f0cf02",
   "metadata": {},
   "source": [
    "#### ✅ Liste → Tableau NumPy"
   ]
  },
  {
   "cell_type": "code",
   "execution_count": 6,
   "id": "384ffe5d-99c4-4cf8-b6de-e31e3c3c5710",
   "metadata": {},
   "outputs": [
    {
     "name": "stdout",
     "output_type": "stream",
     "text": [
      "[1 2 3]\n",
      "(3,)\n"
     ]
    }
   ],
   "source": [
    "a = np.array([1, 2, 3])\n",
    "print(a)            # [1 2 3]\n",
    "# type(a)\n",
    "print(a.shape)      # (3,)"
   ]
  },
  {
   "cell_type": "markdown",
   "id": "dc4fdd42-b870-469f-9ebf-f86c38758f85",
   "metadata": {},
   "source": [
    "#### ✅ Matrice 2D"
   ]
  },
  {
   "cell_type": "code",
   "execution_count": 7,
   "id": "c91e5d6d-7261-42f5-9eab-f3a49840f4b7",
   "metadata": {},
   "outputs": [
    {
     "name": "stdout",
     "output_type": "stream",
     "text": [
      "(2, 2)\n"
     ]
    }
   ],
   "source": [
    "X = np.array([[1, 2], \n",
    "              [3, 4]])\n",
    "print(X.shape)      "
   ]
  },
  {
   "cell_type": "markdown",
   "id": "446d3f98-1fb2-436a-8cef-9e2ce89a2661",
   "metadata": {},
   "source": [
    "#### ✅ Tableaux utiles"
   ]
  },
  {
   "cell_type": "code",
   "execution_count": 13,
   "id": "2180723d-ff52-42ca-9db1-99b9e5fabec8",
   "metadata": {},
   "outputs": [
    {
     "data": {
      "text/plain": [
       "array([0.  , 0.25, 0.5 , 0.75, 1.  ])"
      ]
     },
     "execution_count": 13,
     "metadata": {},
     "output_type": "execute_result"
    }
   ],
   "source": [
    "np.zeros((2, 3))     # Matrice de zéros\n",
    "np.ones((3, 2))      # Matrice de uns\n",
    "np.eye(3)            # Matrice identité\n",
    "np.full((2, 2), 7)   # Matrice remplie\n",
    "np.arange(0, 10, 2)  # [0 2 4 6 8]\n",
    "np.linspace(0, 1, 5) # [0. 0.25 0.5 0.75 1.]"
   ]
  },
  {
   "cell_type": "markdown",
   "id": "28b73502-34fa-4d61-8484-6a6b258e59d5",
   "metadata": {},
   "source": [
    "### 3. 🔁 Indexation & slicing"
   ]
  },
  {
   "cell_type": "markdown",
   "id": "7f5209d3-7690-404c-afe9-3443e48713bb",
   "metadata": {},
   "source": [
    "#### ✅ Indexation classique"
   ]
  },
  {
   "cell_type": "code",
   "execution_count": 20,
   "id": "036758f6-8253-4048-8477-5f638a916304",
   "metadata": {},
   "outputs": [
    {
     "data": {
      "text/plain": [
       "array([4, 5, 6])"
      ]
     },
     "execution_count": 20,
     "metadata": {},
     "output_type": "execute_result"
    }
   ],
   "source": [
    "X = np.array([[1, 2, 3], \n",
    "              [4, 5, 6]])\n",
    "X[0, 1]     # 6\n",
    "X[:, 2]     # [2 5]\n",
    "X[1, :]     # [1 2 3]"
   ]
  },
  {
   "cell_type": "markdown",
   "id": "0fea2431-2f67-4015-897b-76ebb513f129",
   "metadata": {},
   "source": [
    "#### ✅ Masquage booléen"
   ]
  },
  {
   "cell_type": "code",
   "execution_count": 22,
   "id": "f2210a8c-e1a7-4d45-9a8c-fe99e84952ae",
   "metadata": {},
   "outputs": [
    {
     "data": {
      "text/plain": [
       "array([4, 5, 6])"
      ]
     },
     "execution_count": 22,
     "metadata": {},
     "output_type": "execute_result"
    }
   ],
   "source": [
    "X > 3\n",
    "X[X > 3]    # [4 5 6]"
   ]
  },
  {
   "cell_type": "markdown",
   "id": "e7354f61-f1d6-4519-a201-ccdabbeb670d",
   "metadata": {},
   "source": [
    "### 4. 🔄 Opérations vectorielles et matricielles"
   ]
  },
  {
   "cell_type": "markdown",
   "id": "32cf8f2a-e8e5-4dd7-913e-64ee49d6f559",
   "metadata": {},
   "source": [
    "#### ✅ Calculs élément par élément"
   ]
  },
  {
   "cell_type": "code",
   "execution_count": 17,
   "id": "c8a72c25-962a-493f-ac9f-98c7e6b084f4",
   "metadata": {},
   "outputs": [
    {
     "data": {
      "text/plain": [
       "array([1.        , 1.41421356, 1.73205081])"
      ]
     },
     "execution_count": 17,
     "metadata": {},
     "output_type": "execute_result"
    }
   ],
   "source": [
    "a = np.array([1, 2, 3])\n",
    "b = np.array([10, 20, 30])\n",
    "\n",
    "a + b       # [11 22 33]\n",
    "a * b       # [10 40 90]\n",
    "a ** 2      # [1 4 9]\n",
    "np.sqrt(a)  # [1. 1.414... 1.732...]"
   ]
  },
  {
   "cell_type": "markdown",
   "id": "0ed383b3-5c5b-416e-b43c-2e9e76d7f06e",
   "metadata": {},
   "source": [
    "#### ✅ Produit matriciel"
   ]
  },
  {
   "cell_type": "code",
   "execution_count": 18,
   "id": "e3adb4fe-168c-4749-b787-e096addae159",
   "metadata": {},
   "outputs": [
    {
     "data": {
      "text/plain": [
       "array([[ 4,  4],\n",
       "       [10,  8]])"
      ]
     },
     "execution_count": 18,
     "metadata": {},
     "output_type": "execute_result"
    }
   ],
   "source": [
    "A = np.array([[1, 2], \n",
    "              [3, 4]])\n",
    "B = np.array([[2, 0], \n",
    "              [1, 2]])\n",
    "\n",
    "A @ B       # Produit matriciel\n",
    "np.dot(A, B) # Pareil"
   ]
  },
  {
   "cell_type": "markdown",
   "id": "30b24b37-d250-4923-94d0-4b6a302556cc",
   "metadata": {},
   "source": [
    "### 5. 📊 Statistiques utiles"
   ]
  },
  {
   "cell_type": "markdown",
   "id": "916bd9cd-fa1d-4999-84d8-298033ff5317",
   "metadata": {},
   "source": [
    "Très utile avant d'entraîner un modèle (ex : SVM, k-NN, régression)"
   ]
  },
  {
   "cell_type": "code",
   "execution_count": 28,
   "id": "ad1f2f73-cf9b-4c34-bb85-0226c84c501b",
   "metadata": {},
   "outputs": [
    {
     "data": {
      "text/plain": [
       "array([1, 2, 3, 4, 5, 6])"
      ]
     },
     "execution_count": 28,
     "metadata": {},
     "output_type": "execute_result"
    }
   ],
   "source": [
    "X = np.array([[1, 2], \n",
    "              [3, 4], \n",
    "              [5, 6]])\n",
    "\n",
    "np.min(X, axis=0)    # Min par colonne\n",
    "np.max(X, axis=1)    # Max par ligne\n",
    "np.mean(X, axis=0)   # Moyenne par colonne (feature)\n",
    "np.std(X, axis=0)    # Écart-type par feature\n"
   ]
  },
  {
   "cell_type": "code",
   "execution_count": null,
   "id": "d0070556-eb1f-43c3-9baf-ef9fc199c782",
   "metadata": {},
   "outputs": [],
   "source": [
    "x = [2, 4, 4, 4, 5, 5, 7, 9]"
   ]
  },
  {
   "cell_type": "markdown",
   "id": "236c8204-694c-407d-a8c6-eef0a6410d2a",
   "metadata": {},
   "source": [
    "$$\n",
    "\\sigma = \\sqrt{\\frac{1}{n} \\sum_{i=1}^{n} (x_i - \\mu)^2}\n",
    "$$\n",
    "\n",
    "* $\\sigma$ : écart-type de la population\n",
    "* $\\mu$ : moyenne de la population\n",
    "* Pas de correction $n - 1$ ici\n"
   ]
  },
  {
   "cell_type": "markdown",
   "id": "9df25061-915a-482f-963c-da39fd5f98de",
   "metadata": {},
   "source": [
    "### 6. 🧼 Prétraitement (centrage, normalisation)"
   ]
  },
  {
   "cell_type": "code",
   "execution_count": 23,
   "id": "8c8c4c04-c5a1-4c6b-9a75-6e915146b748",
   "metadata": {},
   "outputs": [
    {
     "data": {
      "text/plain": [
       "np.float64(13.0)"
      ]
     },
     "execution_count": 23,
     "metadata": {},
     "output_type": "execute_result"
    }
   ],
   "source": [
    "X = np.array([1, 5, 8, 18, 25, 35])\n",
    "X_mean = np.mean(X, axis=0)\n",
    "X_median = np.median(X, axis=0)\n",
    "X_std = np.std(X, axis=0)\n",
    "X_scaled = (X - X_mean) / X_std # Mise à l'échelle"
   ]
  },
  {
   "cell_type": "markdown",
   "id": "af1ed35c-0235-47f7-881e-203cc15c49e0",
   "metadata": {},
   "source": [
    "### 8. 📐 Reshape, flatten"
   ]
  },
  {
   "cell_type": "markdown",
   "id": "4e71a5ea-55f9-4622-a15a-f186fe0507ed",
   "metadata": {},
   "source": [
    "#### ✅ Pour passer d'un vecteur à une matrice ou inversement"
   ]
  },
  {
   "cell_type": "code",
   "execution_count": 27,
   "id": "c1233d3d-cdbd-4132-8dae-090c03699d00",
   "metadata": {},
   "outputs": [
    {
     "name": "stdout",
     "output_type": "stream",
     "text": [
      "[[1 2]\n",
      " [3 4]]\n"
     ]
    }
   ],
   "source": [
    "a = np.array([1, 2, 3, 4])\n",
    "a.reshape((2, 2)) \n",
    "a.reshape((2, -1)) # [[1, 2], [3, 4]]\n",
    "# print(a.reshape((2, -1)))      # 2 lignes nb_colonne automatique\n",
    "print(a.reshape((-1, 2)))     # n_ligne automatique 2 colonnes\n",
    "a.flatten()             # vecteur plat\n"
   ]
  },
  {
   "cell_type": "markdown",
   "id": "e420ef25-1c4f-46ac-92d9-7e88212682d3",
   "metadata": {},
   "source": [
    "###  7. Autres fonctions clés"
   ]
  },
  {
   "cell_type": "code",
   "execution_count": 33,
   "id": "50c7bd18-cab3-4dec-bf55-cfc33a733cf4",
   "metadata": {},
   "outputs": [
    {
     "data": {
      "text/plain": [
       "array([ 1,  4, 11, 21, 36, 43])"
      ]
     },
     "execution_count": 33,
     "metadata": {},
     "output_type": "execute_result"
    }
   ],
   "source": [
    "x = np.array([1, 3, 7, 10, 15])\n",
    "[4, 4, 7, 10, 12]\n",
    "np.argmax(x)      # Index du max\n",
    "np.argsort(x)   # Index trié\n",
    "np.unique(x)      # Valeurs uniques\n",
    "np.cumsum(x)      # Somme cumulée\n",
    "np.clip(x, 4, 12)  # Troncature entre 4 et 12 ==> # Résultat : [ 4  4  7 10 12 ] toutes les valeurs "
   ]
  },
  {
   "cell_type": "markdown",
   "id": "c0c5e9cf-269a-42fc-8fd2-fd644963f1f4",
   "metadata": {},
   "source": [
    "```python\n",
    "np.clip(x, a_min, a_max)\n",
    "```\n",
    "\n",
    "* Toutes les valeurs **< `a_min`** deviennent `a_min`\n",
    "* Toutes les valeurs **> `a_max`** deviennent `a_max`\n",
    "* Les autres restent inchangées\n",
    "\n",
    "🧠 Interprétation :\n",
    "\n",
    "* 1 et 3 → < 4 → deviennent 4\n",
    "* 15 → > 12 → devient 12\n",
    "* 7 et 10 → dans l’intervalle \\[4, 12] → inchangés\n",
    "\n",
    "\n",
    "* **Limiter les outliers extrêmes**\n",
    "* **Stabiliser** les données avant de les passer à un modèle (éviter les explosions numériques)\n",
    "* Dans les post-traitements de prédictions (ex. : probas bornées entre \\[0, 1])\n",
    "\n"
   ]
  },
  {
   "cell_type": "markdown",
   "id": "68d0794d-1fc7-4369-a6d1-0995cca607a4",
   "metadata": {},
   "source": [
    "# Méthodologie de gestion de projet data"
   ]
  },
  {
   "cell_type": "markdown",
   "id": "f351c353-d064-4f0f-8d0e-6c5413819dfc",
   "metadata": {},
   "source": [
    "* **CRISP-DM**, qui signifie **Cross-Industry Standard Process for Data Mining**, est une méthode ou un modèle de processus qui met en avant le cycle de vie de tout projet data. Il s'agit d'un modèle proposé en 6 phases dont l'ordre des séquences n'est pas strictement fixe, mais suggéré, et offre en conséquence une flexibilité.\n",
    "  \n",
    "* Cette méthodologie est largement utilisée et comprend six phases : la compréhension de l'entreprise des données, la préparation des données, la modélisation, l'évaluation et le déploiement.\n",
    "\n",
    "  \n",
    "* Développée par **IBM dans les années 60**, la méthodologie CRISP-DM était initialement conçue pour des projets de Data Mining.\n",
    " Elle est maintenant majoritairement utilisée dans les équipes de data science pour gérer les projets d'exploration et d'analyse des données.\n",
    " La méthodologie CRISP-DM est itérative, ce qui signifie que les différentes phases peuvent être révisées et répétées en fonction des résultats et des besoins du projet.\n",
    "\n",
    "\n",
    "* Elle permet d'orienter les travaux d'exploration de données en data science."
   ]
  },
  {
   "attachments": {
    "b193fa6d-f6fe-455b-90ec-674484fb176b.jpeg": {
     "image/jpeg": "[encoded data removed]"
    }
   },
   "cell_type": "markdown",
   "id": "a82b1c68-f1a6-4f84-a826-a40596e2e497",
   "metadata": {},
   "source": [
    "![crisp_dm.jpeg](attachment:b193fa6d-f6fe-455b-90ec-674484fb176b.jpeg)"
   ]
  },
  {
   "cell_type": "markdown",
   "id": "282356c3-f7ad-4e93-8812-bffe4d3ff8ba",
   "metadata": {},
   "source": [
    "# Introdution à Pandas"
   ]
  },
  {
   "cell_type": "code",
   "execution_count": 22,
   "id": "2954b763-599a-4712-93bb-aa9c25d32261",
   "metadata": {},
   "outputs": [
    {
     "name": "stdout",
     "output_type": "stream",
     "text": [
      "Requirement already satisfied: pandas in c:\\users\\dell\\anaconda3\\lib\\site-packages (2.2.2)\n",
      "Requirement already satisfied: numpy>=1.26.0 in c:\\users\\dell\\anaconda3\\lib\\site-packages (from pandas) (1.26.4)\n",
      "Requirement already satisfied: python-dateutil>=2.8.2 in c:\\users\\dell\\appdata\\roaming\\python\\python312\\site-packages (from pandas) (2.9.0.post0)\n",
      "Requirement already satisfied: pytz>=2020.1 in c:\\users\\dell\\anaconda3\\lib\\site-packages (from pandas) (2024.1)\n",
      "Requirement already satisfied: tzdata>=2022.7 in c:\\users\\dell\\anaconda3\\lib\\site-packages (from pandas) (2023.3)\n",
      "Requirement already satisfied: six>=1.5 in c:\\users\\dell\\appdata\\roaming\\python\\python312\\site-packages (from python-dateutil>=2.8.2->pandas) (1.17.0)\n",
      "Note: you may need to restart the kernel to use updated packages.\n"
     ]
    }
   ],
   "source": [
    "%pip install pandas "
   ]
  },
  {
   "cell_type": "code",
   "execution_count": 35,
   "id": "3971e809-8923-49ab-874a-c46321eccac1",
   "metadata": {},
   "outputs": [],
   "source": [
    "import pandas as pd"
   ]
  },
  {
   "cell_type": "markdown",
   "id": "fbf3eb05-7a3c-40f2-be77-c813ddd19865",
   "metadata": {},
   "source": [
    "## Chargement Des Données"
   ]
  },
  {
   "cell_type": "code",
   "execution_count": 39,
   "id": "b5a9767f-0131-411e-a6b7-8969952a8eea",
   "metadata": {},
   "outputs": [
    {
     "data": {
      "text/html": [
       "<div>\n",
       "<style scoped>\n",
       "    .dataframe tbody tr th:only-of-type {\n",
       "        vertical-align: middle;\n",
       "    }\n",
       "\n",
       "    .dataframe tbody tr th {\n",
       "        vertical-align: top;\n",
       "    }\n",
       "\n",
       "    .dataframe thead th {\n",
       "        text-align: right;\n",
       "    }\n",
       "</style>\n",
       "<table border=\"1\" class=\"dataframe\">\n",
       "  <thead>\n",
       "    <tr style=\"text-align: right;\">\n",
       "      <th></th>\n",
       "      <th>city</th>\n",
       "      <th>date</th>\n",
       "      <th>aqi</th>\n",
       "      <th>pm2_5</th>\n",
       "      <th>pm10</th>\n",
       "      <th>no2</th>\n",
       "      <th>o3</th>\n",
       "      <th>temperature</th>\n",
       "      <th>humidity</th>\n",
       "      <th>hospital_admissions</th>\n",
       "      <th>population_density</th>\n",
       "      <th>hospital_capacity</th>\n",
       "    </tr>\n",
       "  </thead>\n",
       "  <tbody>\n",
       "    <tr>\n",
       "      <th>0</th>\n",
       "      <td>Los Angeles</td>\n",
       "      <td>2020-01-01</td>\n",
       "      <td>65</td>\n",
       "      <td>34.0</td>\n",
       "      <td>52.7</td>\n",
       "      <td>2.2</td>\n",
       "      <td>38.5</td>\n",
       "      <td>33.5</td>\n",
       "      <td>33</td>\n",
       "      <td>5</td>\n",
       "      <td>Rural</td>\n",
       "      <td>1337</td>\n",
       "    </tr>\n",
       "    <tr>\n",
       "      <th>1</th>\n",
       "      <td>Beijing</td>\n",
       "      <td>2020-01-02</td>\n",
       "      <td>137</td>\n",
       "      <td>33.7</td>\n",
       "      <td>31.5</td>\n",
       "      <td>36.7</td>\n",
       "      <td>27.5</td>\n",
       "      <td>-1.6</td>\n",
       "      <td>32</td>\n",
       "      <td>4</td>\n",
       "      <td>Urban</td>\n",
       "      <td>1545</td>\n",
       "    </tr>\n",
       "    <tr>\n",
       "      <th>2</th>\n",
       "      <td>London</td>\n",
       "      <td>2020-01-03</td>\n",
       "      <td>266</td>\n",
       "      <td>43.0</td>\n",
       "      <td>59.6</td>\n",
       "      <td>30.4</td>\n",
       "      <td>57.3</td>\n",
       "      <td>36.4</td>\n",
       "      <td>25</td>\n",
       "      <td>10</td>\n",
       "      <td>Suburban</td>\n",
       "      <td>1539</td>\n",
       "    </tr>\n",
       "    <tr>\n",
       "      <th>3</th>\n",
       "      <td>Mexico City</td>\n",
       "      <td>2020-01-04</td>\n",
       "      <td>293</td>\n",
       "      <td>33.7</td>\n",
       "      <td>37.9</td>\n",
       "      <td>12.3</td>\n",
       "      <td>42.7</td>\n",
       "      <td>-1.0</td>\n",
       "      <td>67</td>\n",
       "      <td>10</td>\n",
       "      <td>Urban</td>\n",
       "      <td>552</td>\n",
       "    </tr>\n",
       "    <tr>\n",
       "      <th>4</th>\n",
       "      <td>Delhi</td>\n",
       "      <td>2020-01-05</td>\n",
       "      <td>493</td>\n",
       "      <td>50.3</td>\n",
       "      <td>34.8</td>\n",
       "      <td>31.2</td>\n",
       "      <td>35.6</td>\n",
       "      <td>33.5</td>\n",
       "      <td>72</td>\n",
       "      <td>9</td>\n",
       "      <td>Suburban</td>\n",
       "      <td>1631</td>\n",
       "    </tr>\n",
       "    <tr>\n",
       "      <th>...</th>\n",
       "      <td>...</td>\n",
       "      <td>...</td>\n",
       "      <td>...</td>\n",
       "      <td>...</td>\n",
       "      <td>...</td>\n",
       "      <td>...</td>\n",
       "      <td>...</td>\n",
       "      <td>...</td>\n",
       "      <td>...</td>\n",
       "      <td>...</td>\n",
       "      <td>...</td>\n",
       "      <td>...</td>\n",
       "    </tr>\n",
       "    <tr>\n",
       "      <th>88484</th>\n",
       "      <td>Tokyo</td>\n",
       "      <td>2262-04-06</td>\n",
       "      <td>22</td>\n",
       "      <td>23.4</td>\n",
       "      <td>53.4</td>\n",
       "      <td>24.3</td>\n",
       "      <td>58.9</td>\n",
       "      <td>9.1</td>\n",
       "      <td>55</td>\n",
       "      <td>5</td>\n",
       "      <td>Suburban</td>\n",
       "      <td>419</td>\n",
       "    </tr>\n",
       "    <tr>\n",
       "      <th>88485</th>\n",
       "      <td>Delhi</td>\n",
       "      <td>2262-04-07</td>\n",
       "      <td>170</td>\n",
       "      <td>48.0</td>\n",
       "      <td>32.4</td>\n",
       "      <td>25.0</td>\n",
       "      <td>15.7</td>\n",
       "      <td>5.6</td>\n",
       "      <td>40</td>\n",
       "      <td>10</td>\n",
       "      <td>Urban</td>\n",
       "      <td>695</td>\n",
       "    </tr>\n",
       "    <tr>\n",
       "      <th>88486</th>\n",
       "      <td>Delhi</td>\n",
       "      <td>2262-04-08</td>\n",
       "      <td>307</td>\n",
       "      <td>46.7</td>\n",
       "      <td>21.8</td>\n",
       "      <td>31.9</td>\n",
       "      <td>45.1</td>\n",
       "      <td>9.5</td>\n",
       "      <td>44</td>\n",
       "      <td>12</td>\n",
       "      <td>Urban</td>\n",
       "      <td>245</td>\n",
       "    </tr>\n",
       "    <tr>\n",
       "      <th>88487</th>\n",
       "      <td>Beijing</td>\n",
       "      <td>2262-04-09</td>\n",
       "      <td>65</td>\n",
       "      <td>31.9</td>\n",
       "      <td>26.0</td>\n",
       "      <td>38.1</td>\n",
       "      <td>53.0</td>\n",
       "      <td>17.8</td>\n",
       "      <td>46</td>\n",
       "      <td>11</td>\n",
       "      <td>Suburban</td>\n",
       "      <td>1291</td>\n",
       "    </tr>\n",
       "    <tr>\n",
       "      <th>88488</th>\n",
       "      <td>Mexico City</td>\n",
       "      <td>2262-04-10</td>\n",
       "      <td>59</td>\n",
       "      <td>41.8</td>\n",
       "      <td>50.1</td>\n",
       "      <td>31.2</td>\n",
       "      <td>52.0</td>\n",
       "      <td>25.0</td>\n",
       "      <td>65</td>\n",
       "      <td>8</td>\n",
       "      <td>Urban</td>\n",
       "      <td>983</td>\n",
       "    </tr>\n",
       "  </tbody>\n",
       "</table>\n",
       "<p>88489 rows × 12 columns</p>\n",
       "</div>"
      ],
      "text/plain": [
       "              city        date  aqi  pm2_5  pm10   no2    o3  temperature  \\\n",
       "0      Los Angeles  2020-01-01   65   34.0  52.7   2.2  38.5         33.5   \n",
       "1          Beijing  2020-01-02  137   33.7  31.5  36.7  27.5         -1.6   \n",
       "2           London  2020-01-03  266   43.0  59.6  30.4  57.3         36.4   \n",
       "3      Mexico City  2020-01-04  293   33.7  37.9  12.3  42.7         -1.0   \n",
       "4            Delhi  2020-01-05  493   50.3  34.8  31.2  35.6         33.5   \n",
       "...            ...         ...  ...    ...   ...   ...   ...          ...   \n",
       "88484        Tokyo  2262-04-06   22   23.4  53.4  24.3  58.9          9.1   \n",
       "88485        Delhi  2262-04-07  170   48.0  32.4  25.0  15.7          5.6   \n",
       "88486        Delhi  2262-04-08  307   46.7  21.8  31.9  45.1          9.5   \n",
       "88487      Beijing  2262-04-09   65   31.9  26.0  38.1  53.0         17.8   \n",
       "88488  Mexico City  2262-04-10   59   41.8  50.1  31.2  52.0         25.0   \n",
       "\n",
       "       humidity  hospital_admissions population_density  hospital_capacity  \n",
       "0            33                    5              Rural               1337  \n",
       "1            32                    4              Urban               1545  \n",
       "2            25                   10           Suburban               1539  \n",
       "3            67                   10              Urban                552  \n",
       "4            72                    9           Suburban               1631  \n",
       "...         ...                  ...                ...                ...  \n",
       "88484        55                    5           Suburban                419  \n",
       "88485        40                   10              Urban                695  \n",
       "88486        44                   12              Urban                245  \n",
       "88487        46                   11           Suburban               1291  \n",
       "88488        65                    8              Urban                983  \n",
       "\n",
       "[88489 rows x 12 columns]"
      ]
     },
     "execution_count": 39,
     "metadata": {},
     "output_type": "execute_result"
    }
   ],
   "source": [
    "df = pd.read_csv(\"data/air_quality_health_dataset.csv\", encoding='utf-8')\n",
    "df"
   ]
  },
  {
   "cell_type": "markdown",
   "id": "b48dbdf6-615d-49f4-9543-8319a93c080d",
   "metadata": {},
   "source": [
    "## Exploratory Data Analysis (EDA)- Analyse Exploratoire & Data Comprehension"
   ]
  },
  {
   "cell_type": "code",
   "execution_count": 64,
   "id": "498b15f1-ba0c-4d3e-ae9c-cb2bd7ce5f2f",
   "metadata": {},
   "outputs": [
    {
     "data": {
      "text/html": [
       "<div>\n",
       "<style scoped>\n",
       "    .dataframe tbody tr th:only-of-type {\n",
       "        vertical-align: middle;\n",
       "    }\n",
       "\n",
       "    .dataframe tbody tr th {\n",
       "        vertical-align: top;\n",
       "    }\n",
       "\n",
       "    .dataframe thead th {\n",
       "        text-align: right;\n",
       "    }\n",
       "</style>\n",
       "<table border=\"1\" class=\"dataframe\">\n",
       "  <thead>\n",
       "    <tr style=\"text-align: right;\">\n",
       "      <th></th>\n",
       "      <th>city</th>\n",
       "      <th>date</th>\n",
       "      <th>aqi</th>\n",
       "      <th>pm2_5</th>\n",
       "      <th>pm10</th>\n",
       "      <th>no2</th>\n",
       "      <th>o3</th>\n",
       "      <th>temperature</th>\n",
       "      <th>humidity</th>\n",
       "      <th>hospital_admissions</th>\n",
       "      <th>population_density</th>\n",
       "      <th>hospital_capacity</th>\n",
       "    </tr>\n",
       "  </thead>\n",
       "  <tbody>\n",
       "    <tr>\n",
       "      <th>0</th>\n",
       "      <td>Los Angeles</td>\n",
       "      <td>2020-01-01</td>\n",
       "      <td>65</td>\n",
       "      <td>34.0</td>\n",
       "      <td>52.7</td>\n",
       "      <td>2.2</td>\n",
       "      <td>38.5</td>\n",
       "      <td>33.5</td>\n",
       "      <td>33</td>\n",
       "      <td>5</td>\n",
       "      <td>Rural</td>\n",
       "      <td>1337</td>\n",
       "    </tr>\n",
       "    <tr>\n",
       "      <th>1</th>\n",
       "      <td>Beijing</td>\n",
       "      <td>2020-01-02</td>\n",
       "      <td>137</td>\n",
       "      <td>33.7</td>\n",
       "      <td>31.5</td>\n",
       "      <td>36.7</td>\n",
       "      <td>27.5</td>\n",
       "      <td>-1.6</td>\n",
       "      <td>32</td>\n",
       "      <td>4</td>\n",
       "      <td>Urban</td>\n",
       "      <td>1545</td>\n",
       "    </tr>\n",
       "    <tr>\n",
       "      <th>2</th>\n",
       "      <td>London</td>\n",
       "      <td>2020-01-03</td>\n",
       "      <td>266</td>\n",
       "      <td>43.0</td>\n",
       "      <td>59.6</td>\n",
       "      <td>30.4</td>\n",
       "      <td>57.3</td>\n",
       "      <td>36.4</td>\n",
       "      <td>25</td>\n",
       "      <td>10</td>\n",
       "      <td>Suburban</td>\n",
       "      <td>1539</td>\n",
       "    </tr>\n",
       "    <tr>\n",
       "      <th>3</th>\n",
       "      <td>Mexico City</td>\n",
       "      <td>2020-01-04</td>\n",
       "      <td>293</td>\n",
       "      <td>33.7</td>\n",
       "      <td>37.9</td>\n",
       "      <td>12.3</td>\n",
       "      <td>42.7</td>\n",
       "      <td>-1.0</td>\n",
       "      <td>67</td>\n",
       "      <td>10</td>\n",
       "      <td>Urban</td>\n",
       "      <td>552</td>\n",
       "    </tr>\n",
       "    <tr>\n",
       "      <th>4</th>\n",
       "      <td>Delhi</td>\n",
       "      <td>2020-01-05</td>\n",
       "      <td>493</td>\n",
       "      <td>50.3</td>\n",
       "      <td>34.8</td>\n",
       "      <td>31.2</td>\n",
       "      <td>35.6</td>\n",
       "      <td>33.5</td>\n",
       "      <td>72</td>\n",
       "      <td>9</td>\n",
       "      <td>Suburban</td>\n",
       "      <td>1631</td>\n",
       "    </tr>\n",
       "  </tbody>\n",
       "</table>\n",
       "</div>"
      ],
      "text/plain": [
       "          city        date  aqi  pm2_5  pm10   no2    o3  temperature  \\\n",
       "0  Los Angeles  2020-01-01   65   34.0  52.7   2.2  38.5         33.5   \n",
       "1      Beijing  2020-01-02  137   33.7  31.5  36.7  27.5         -1.6   \n",
       "2       London  2020-01-03  266   43.0  59.6  30.4  57.3         36.4   \n",
       "3  Mexico City  2020-01-04  293   33.7  37.9  12.3  42.7         -1.0   \n",
       "4        Delhi  2020-01-05  493   50.3  34.8  31.2  35.6         33.5   \n",
       "\n",
       "   humidity  hospital_admissions population_density  hospital_capacity  \n",
       "0        33                    5              Rural               1337  \n",
       "1        32                    4              Urban               1545  \n",
       "2        25                   10           Suburban               1539  \n",
       "3        67                   10              Urban                552  \n",
       "4        72                    9           Suburban               1631  "
      ]
     },
     "execution_count": 64,
     "metadata": {},
     "output_type": "execute_result"
    }
   ],
   "source": [
    "df.head()\n",
    "# df.tail()\n",
    "# df.sample()"
   ]
  },
  {
   "cell_type": "markdown",
   "id": "8ec543cb-8f82-4bf7-8360-c30ad4ce5bc1",
   "metadata": {},
   "source": [
    "### Data Comprehension"
   ]
  },
  {
   "cell_type": "markdown",
   "id": "c7861e43-7d12-47ca-9866-15dd42a7ae40",
   "metadata": {},
   "source": [
    "| **Nom de colonne**    | **Signification**                                                                                                                                  |\n",
    "| --------------------- | -------------------------------------------------------------------------------------------------------------------------------------------------- |\n",
    "| `city`                | **Ville** où les données ont été relevées.                                                                                                         |\n",
    "| `date`                | **Date** d’enregistrement de la mesure (au format YYYY-MM-DD).                                                                                     |\n",
    "| `aqi`                 | **Air Quality Index (Indice de qualité de l’air)** : indicateur global de la pollution de l'air. Plus la valeur est élevée, plus l'air est pollué. |\n",
    "| `pm2_5`               | **Particules fines (PM2.5)** en µg/m³ : particules de diamètre ≤ 2,5 microns, très nocives car elles pénètrent profondément dans les poumons.      |\n",
    "| `pm10`                | **Particules inhalables (PM10)** en µg/m³ : particules de diamètre ≤ 10 microns, également dangereuses, mais un peu moins fines que PM2.5.         |\n",
    "| `no2`                 | **Dioxyde d’azote (NO₂)** en µg/m³ : gaz toxique principalement émis par la combustion (trafic routier, industrie).                                |\n",
    "| `o3`                  | **Ozone troposphérique (O₃)** en µg/m³ : gaz pouvant être bénéfique en haute atmosphère mais nocif à basse altitude pour les voies respiratoires.  |\n",
    "| `temperature`         | **Température ambiante** en °C lors de la mesure.                                                                                                  |\n",
    "| `humidity`            | **Humidité relative** de l’air en pourcentage (%).                                                                                                 |\n",
    "| `hospital_admissions` | **Nombre d’admissions à l’hôpital** ce jour-là dans la ville (possiblement en lien avec la pollution).                                             |\n",
    "| `population_density`  | **Densité de population** (ex : \"Rural\", \"Urban\") : indique si la zone est à faible ou forte densité humaine.                                      |\n",
    "| `hospital_capacity`   | **Capacité d’accueil des hôpitaux** de la ville (exprimée probablement en nombre total de lits disponibles).                                       |\n"
   ]
  },
  {
   "cell_type": "code",
   "execution_count": 24,
   "id": "421b048d-9eef-47de-9deb-519a0d604ded",
   "metadata": {},
   "outputs": [
    {
     "data": {
      "text/plain": [
       "Index(['city', 'date', 'aqi', 'pm2_5'], dtype='object')"
      ]
     },
     "execution_count": 24,
     "metadata": {},
     "output_type": "execute_result"
    }
   ],
   "source": [
    "df.columns"
   ]
  },
  {
   "cell_type": "code",
   "execution_count": 25,
   "id": "212f4753-f43b-4267-a985-cdf1d8fa4826",
   "metadata": {},
   "outputs": [
    {
     "data": {
      "text/plain": [
       "(88489, 4)"
      ]
     },
     "execution_count": 25,
     "metadata": {},
     "output_type": "execute_result"
    }
   ],
   "source": [
    "df.shape"
   ]
  },
  {
   "cell_type": "code",
   "execution_count": 26,
   "id": "e0e63d9f-a8ae-4c66-828e-9ff47b3eef4e",
   "metadata": {},
   "outputs": [
    {
     "data": {
      "text/plain": [
       "city      object\n",
       "date      object\n",
       "aqi        int64\n",
       "pm2_5    float64\n",
       "dtype: object"
      ]
     },
     "execution_count": 26,
     "metadata": {},
     "output_type": "execute_result"
    }
   ],
   "source": [
    "df.dtypes"
   ]
  },
  {
   "cell_type": "code",
   "execution_count": 27,
   "id": "187746b5-07c1-4e6e-9e23-0dc260162ade",
   "metadata": {},
   "outputs": [
    {
     "name": "stdout",
     "output_type": "stream",
     "text": [
      "<class 'pandas.core.frame.DataFrame'>\n",
      "RangeIndex: 88489 entries, 0 to 88488\n",
      "Data columns (total 4 columns):\n",
      " #   Column  Non-Null Count  Dtype  \n",
      "---  ------  --------------  -----  \n",
      " 0   city    88489 non-null  object \n",
      " 1   date    88489 non-null  object \n",
      " 2   aqi     88489 non-null  int64  \n",
      " 3   pm2_5   88489 non-null  float64\n",
      "dtypes: float64(1), int64(1), object(2)\n",
      "memory usage: 2.7+ MB\n"
     ]
    }
   ],
   "source": [
    "df.info()"
   ]
  },
  {
   "cell_type": "code",
   "execution_count": 21,
   "id": "6b8bed48-1a0b-4870-b597-ec5c6e63f649",
   "metadata": {},
   "outputs": [
    {
     "data": {
      "text/html": [
       "<div>\n",
       "<style scoped>\n",
       "    .dataframe tbody tr th:only-of-type {\n",
       "        vertical-align: middle;\n",
       "    }\n",
       "\n",
       "    .dataframe tbody tr th {\n",
       "        vertical-align: top;\n",
       "    }\n",
       "\n",
       "    .dataframe thead th {\n",
       "        text-align: right;\n",
       "    }\n",
       "</style>\n",
       "<table border=\"1\" class=\"dataframe\">\n",
       "  <thead>\n",
       "    <tr style=\"text-align: right;\">\n",
       "      <th></th>\n",
       "      <th>city</th>\n",
       "      <th>date</th>\n",
       "      <th>aqi</th>\n",
       "      <th>pm2_5</th>\n",
       "    </tr>\n",
       "  </thead>\n",
       "  <tbody>\n",
       "    <tr>\n",
       "      <th>0</th>\n",
       "      <td>Los Angeles</td>\n",
       "      <td>2020-01-01</td>\n",
       "      <td>65</td>\n",
       "      <td>34.0</td>\n",
       "    </tr>\n",
       "    <tr>\n",
       "      <th>1</th>\n",
       "      <td>Beijing</td>\n",
       "      <td>2020-01-02</td>\n",
       "      <td>137</td>\n",
       "      <td>33.7</td>\n",
       "    </tr>\n",
       "    <tr>\n",
       "      <th>2</th>\n",
       "      <td>London</td>\n",
       "      <td>2020-01-03</td>\n",
       "      <td>266</td>\n",
       "      <td>43.0</td>\n",
       "    </tr>\n",
       "    <tr>\n",
       "      <th>3</th>\n",
       "      <td>Mexico City</td>\n",
       "      <td>2020-01-04</td>\n",
       "      <td>293</td>\n",
       "      <td>33.7</td>\n",
       "    </tr>\n",
       "    <tr>\n",
       "      <th>4</th>\n",
       "      <td>Delhi</td>\n",
       "      <td>2020-01-05</td>\n",
       "      <td>493</td>\n",
       "      <td>50.3</td>\n",
       "    </tr>\n",
       "  </tbody>\n",
       "</table>\n",
       "</div>"
      ],
      "text/plain": [
       "          city        date  aqi  pm2_5\n",
       "0  Los Angeles  2020-01-01   65   34.0\n",
       "1      Beijing  2020-01-02  137   33.7\n",
       "2       London  2020-01-03  266   43.0\n",
       "3  Mexico City  2020-01-04  293   33.7\n",
       "4        Delhi  2020-01-05  493   50.3"
      ]
     },
     "execution_count": 21,
     "metadata": {},
     "output_type": "execute_result"
    }
   ],
   "source": [
    "df = pd.read_csv(\"data/air_quality_health_dataset.csv\", usecols=[0, 1, 2, 3], encoding=\"utf-8\")\n",
    "df.head()"
   ]
  },
  {
   "cell_type": "code",
   "execution_count": 70,
   "id": "ce46defd-1d89-4df0-a0c1-bd4faafc9f10",
   "metadata": {},
   "outputs": [
    {
     "name": "stdout",
     "output_type": "stream",
     "text": [
      "<class 'pandas.core.frame.DataFrame'>\n",
      "RangeIndex: 88489 entries, 0 to 88488\n",
      "Data columns (total 12 columns):\n",
      " #   Column               Non-Null Count  Dtype  \n",
      "---  ------               --------------  -----  \n",
      " 0   city                 88489 non-null  object \n",
      " 1   date                 88489 non-null  object \n",
      " 2   aqi                  88489 non-null  int64  \n",
      " 3   pm2_5                88489 non-null  float64\n",
      " 4   pm10                 88489 non-null  float64\n",
      " 5   no2                  88489 non-null  float64\n",
      " 6   o3                   88489 non-null  float64\n",
      " 7   temperature          88489 non-null  float64\n",
      " 8   humidity             88489 non-null  int64  \n",
      " 9   hospital_admissions  88489 non-null  int64  \n",
      " 10  population_density   88489 non-null  object \n",
      " 11  hospital_capacity    88489 non-null  int64  \n",
      "dtypes: float64(5), int64(4), object(3)\n",
      "memory usage: 8.1+ MB\n"
     ]
    }
   ],
   "source": [
    "df.info()"
   ]
  },
  {
   "cell_type": "code",
   "execution_count": 66,
   "id": "9a9e2c15-f59b-4f4b-9a54-9179f2686ed0",
   "metadata": {},
   "outputs": [
    {
     "data": {
      "text/html": [
       "<div>\n",
       "<style scoped>\n",
       "    .dataframe tbody tr th:only-of-type {\n",
       "        vertical-align: middle;\n",
       "    }\n",
       "\n",
       "    .dataframe tbody tr th {\n",
       "        vertical-align: top;\n",
       "    }\n",
       "\n",
       "    .dataframe thead th {\n",
       "        text-align: right;\n",
       "    }\n",
       "</style>\n",
       "<table border=\"1\" class=\"dataframe\">\n",
       "  <thead>\n",
       "    <tr style=\"text-align: right;\">\n",
       "      <th></th>\n",
       "      <th>aqi</th>\n",
       "      <th>pm2_5</th>\n",
       "      <th>pm10</th>\n",
       "      <th>no2</th>\n",
       "      <th>o3</th>\n",
       "      <th>temperature</th>\n",
       "      <th>humidity</th>\n",
       "      <th>hospital_admissions</th>\n",
       "      <th>hospital_capacity</th>\n",
       "    </tr>\n",
       "  </thead>\n",
       "  <tbody>\n",
       "    <tr>\n",
       "      <th>count</th>\n",
       "      <td>88489.000000</td>\n",
       "      <td>88489.000000</td>\n",
       "      <td>88489.000000</td>\n",
       "      <td>88489.000000</td>\n",
       "      <td>88489.000000</td>\n",
       "      <td>88489.000000</td>\n",
       "      <td>88489.000000</td>\n",
       "      <td>88489.000000</td>\n",
       "      <td>88489.000000</td>\n",
       "    </tr>\n",
       "    <tr>\n",
       "      <th>mean</th>\n",
       "      <td>249.370182</td>\n",
       "      <td>35.144951</td>\n",
       "      <td>50.118654</td>\n",
       "      <td>30.006211</td>\n",
       "      <td>39.978895</td>\n",
       "      <td>17.522962</td>\n",
       "      <td>56.950966</td>\n",
       "      <td>8.049385</td>\n",
       "      <td>1024.463165</td>\n",
       "    </tr>\n",
       "    <tr>\n",
       "      <th>std</th>\n",
       "      <td>144.479132</td>\n",
       "      <td>14.767994</td>\n",
       "      <td>19.796392</td>\n",
       "      <td>9.963139</td>\n",
       "      <td>12.007258</td>\n",
       "      <td>12.961024</td>\n",
       "      <td>21.629675</td>\n",
       "      <td>3.715458</td>\n",
       "      <td>561.978071</td>\n",
       "    </tr>\n",
       "    <tr>\n",
       "      <th>min</th>\n",
       "      <td>0.000000</td>\n",
       "      <td>0.000000</td>\n",
       "      <td>0.000000</td>\n",
       "      <td>0.000000</td>\n",
       "      <td>0.000000</td>\n",
       "      <td>-5.000000</td>\n",
       "      <td>20.000000</td>\n",
       "      <td>0.000000</td>\n",
       "      <td>50.000000</td>\n",
       "    </tr>\n",
       "    <tr>\n",
       "      <th>25%</th>\n",
       "      <td>124.000000</td>\n",
       "      <td>24.900000</td>\n",
       "      <td>36.600000</td>\n",
       "      <td>23.300000</td>\n",
       "      <td>31.900000</td>\n",
       "      <td>6.400000</td>\n",
       "      <td>38.000000</td>\n",
       "      <td>6.000000</td>\n",
       "      <td>539.000000</td>\n",
       "    </tr>\n",
       "    <tr>\n",
       "      <th>50%</th>\n",
       "      <td>249.000000</td>\n",
       "      <td>35.100000</td>\n",
       "      <td>50.000000</td>\n",
       "      <td>30.000000</td>\n",
       "      <td>40.000000</td>\n",
       "      <td>17.500000</td>\n",
       "      <td>57.000000</td>\n",
       "      <td>8.000000</td>\n",
       "      <td>1026.000000</td>\n",
       "    </tr>\n",
       "    <tr>\n",
       "      <th>75%</th>\n",
       "      <td>374.000000</td>\n",
       "      <td>45.200000</td>\n",
       "      <td>63.500000</td>\n",
       "      <td>36.700000</td>\n",
       "      <td>48.100000</td>\n",
       "      <td>28.700000</td>\n",
       "      <td>76.000000</td>\n",
       "      <td>10.000000</td>\n",
       "      <td>1511.000000</td>\n",
       "    </tr>\n",
       "    <tr>\n",
       "      <th>max</th>\n",
       "      <td>499.000000</td>\n",
       "      <td>109.900000</td>\n",
       "      <td>143.500000</td>\n",
       "      <td>71.400000</td>\n",
       "      <td>93.500000</td>\n",
       "      <td>40.000000</td>\n",
       "      <td>94.000000</td>\n",
       "      <td>25.000000</td>\n",
       "      <td>1999.000000</td>\n",
       "    </tr>\n",
       "  </tbody>\n",
       "</table>\n",
       "</div>"
      ],
      "text/plain": [
       "                aqi         pm2_5          pm10           no2            o3  \\\n",
       "count  88489.000000  88489.000000  88489.000000  88489.000000  88489.000000   \n",
       "mean     249.370182     35.144951     50.118654     30.006211     39.978895   \n",
       "std      144.479132     14.767994     19.796392      9.963139     12.007258   \n",
       "min        0.000000      0.000000      0.000000      0.000000      0.000000   \n",
       "25%      124.000000     24.900000     36.600000     23.300000     31.900000   \n",
       "50%      249.000000     35.100000     50.000000     30.000000     40.000000   \n",
       "75%      374.000000     45.200000     63.500000     36.700000     48.100000   \n",
       "max      499.000000    109.900000    143.500000     71.400000     93.500000   \n",
       "\n",
       "        temperature      humidity  hospital_admissions  hospital_capacity  \n",
       "count  88489.000000  88489.000000         88489.000000       88489.000000  \n",
       "mean      17.522962     56.950966             8.049385        1024.463165  \n",
       "std       12.961024     21.629675             3.715458         561.978071  \n",
       "min       -5.000000     20.000000             0.000000          50.000000  \n",
       "25%        6.400000     38.000000             6.000000         539.000000  \n",
       "50%       17.500000     57.000000             8.000000        1026.000000  \n",
       "75%       28.700000     76.000000            10.000000        1511.000000  \n",
       "max       40.000000     94.000000            25.000000        1999.000000  "
      ]
     },
     "execution_count": 66,
     "metadata": {},
     "output_type": "execute_result"
    }
   ],
   "source": [
    "df.describe()"
   ]
  },
  {
   "cell_type": "markdown",
   "id": "aa399796-d1f4-4a7c-abf6-4896586a9a92",
   "metadata": {
    "jp-MarkdownHeadingCollapsed": true
   },
   "source": [
    "## Data Cleaning/Cleansing - Nettoyage de données"
   ]
  },
  {
   "cell_type": "markdown",
   "id": "34887888-dc8f-43d0-b5cb-8dc05f6f843e",
   "metadata": {},
   "source": [
    "* Après une analyse exploration, il est crucial de procéder au nettoyage de vos données. \n",
    "* Cette étape consiste à épurer vos données, en corrigeant les erreurs, les incohérences, et en ne conservant uniquement les données utiles pour vos analyses. D'où la nécessité de bien comprendre les besoins métiers avant tout projet data. Sans quoi, nous errons sans objectif précis"
   ]
  },
  {
   "cell_type": "markdown",
   "id": "361d5bfd-8bb1-4c5d-a239-be3d257330b6",
   "metadata": {},
   "source": [
    "Le nettoyage des données (ou \"data cleaning\") est une étape essentielle dans tout projet de données, car il garantit la qualité, la cohérence et la fiabilité des analyses. Voici les opérations les plus courantes à effectuer :\n",
    "\n",
    "---\n",
    "\n",
    "### 🔍 1. **Identification et gestion des valeurs manquantes**\n",
    "\n",
    "* **Détection** : repérer les cellules vides, `NaN`, `null`, ou des valeurs comme `\"?\"`, `\"N/A\"`.\n",
    "* **Traitement** :\n",
    "\n",
    "  * Suppression des lignes ou colonnes trop incomplètes.\n",
    "  * Imputation (remplissage) avec :\n",
    "\n",
    "    * la moyenne, médiane ou mode (pour les variables numériques ou catégorielles),\n",
    "    * des valeurs spécifiques ou par interpolation,\n",
    "    * des modèles prédictifs.\n",
    "\n",
    "---\n",
    "\n",
    "### ⚠️ 2. **Détection et traitement des doublons**\n",
    "\n",
    "* Suppression des lignes en double.\n",
    "* Regroupement ou consolidation si les doublons ne sont que partiels.\n",
    "\n",
    "---\n",
    "\n",
    "### 🔤 3. **Uniformisation des formats**\n",
    "\n",
    "* **Dates** : s’assurer d’un format uniforme (`YYYY-MM-DD`, etc.).\n",
    "* **Textes** :\n",
    "\n",
    "  * suppression des espaces en trop,\n",
    "  * mise en minuscules/majuscules,\n",
    "  * correction des fautes de frappe (standardisation).\n",
    "* **Numériques** : convertir les chaînes de caractères en nombres quand nécessaire.\n",
    "\n",
    "---\n",
    "\n",
    "### 🧹 4. **Nettoyage des valeurs aberrantes (outliers)**\n",
    "\n",
    "* Détection via :\n",
    "\n",
    "  * écart interquartile (IQR),\n",
    "  * score z,\n",
    "  * visualisation (boxplots, scatterplots).\n",
    "* Traitement :\n",
    "\n",
    "  * suppression,\n",
    "  * remplacement (winsorization),\n",
    "  * ou conservation (si les valeurs sont justifiées).\n",
    "\n",
    "---\n",
    "\n",
    "### 📊 5. **Correction des erreurs de type ou de codage**\n",
    "\n",
    "* Exemples :\n",
    "\n",
    "  * `\"O\"` au lieu de `\"0\"`,\n",
    "  * `\"one\"` au lieu de `1`,\n",
    "  * incohérences d’unités (mètre vs cm, € vs \\$).\n",
    "\n",
    "---\n",
    "\n",
    "### 🏷️ 6. **Standardisation des catégories**\n",
    "\n",
    "* Uniformiser les labels catégoriels : `\"Homme\"`, `\"homme\"`, `\"M\"` → `\"Homme\"`.\n",
    "* Fusion de catégories trop rares ou incohérentes.\n",
    "\n",
    "---\n",
    "\n",
    "### 🧬 7. **Vérification des relations logiques**\n",
    "\n",
    "* Par exemple : une date de naissance ne peut pas être après une date d’inscription.\n",
    "* Cohérence entre champs liés (ex : somme des sous-totaux = total général).\n",
    "\n",
    "---\n",
    "\n",
    "### 🗃️ 8. **Filtrage des colonnes ou lignes inutiles**\n",
    "\n",
    "* Supprimer les colonnes non informatives (ID aléatoire, colonnes constantes).\n",
    "* Supprimer les lignes non pertinentes (tests, entrées vides).\n",
    "\n",
    "---\n",
    "\n",
    "### 🧪 Outils fréquemment utilisés :\n",
    "\n",
    "* **Python** : `pandas`, `numpy`, `sklearn`, `missingno`\n",
    "* **R** : `dplyr`, `tidyr`, `janitor`\n",
    "* **Outils no-code** : Excel, OpenRefine, Power Query\n"
   ]
  },
  {
   "cell_type": "markdown",
   "id": "1bfd15a2-a2d6-4830-9216-8ee870c49af4",
   "metadata": {
    "jp-MarkdownHeadingCollapsed": true
   },
   "source": [
    "### Gestion des valeurs manquantes"
   ]
  },
  {
   "cell_type": "code",
   "execution_count": null,
   "id": "184ce2a3-7cb6-4f0b-8a8e-f63cf4939551",
   "metadata": {},
   "outputs": [],
   "source": [
    "# Gestion des valeurs manquantes\n",
    "# df.isna().sum()\n",
    "# df.dropna(axis=0, inplace=True)  # Supprime les lignes avec des valeurs manquantes\n",
    "# df.dropna(axis=1, inplace=True)  # Supprime les colonnes avec des valeurs manquantes\n",
    "\n",
    "# df.fillna(df.mean(), inplace=True)  # Remplit avec la moyenne des colonnes\n",
    "# df.fillna(method='ffill', inplace=True)  # Remplit avec la dernière valeur connue\n",
    "\n",
    "df.isnull().sum()\n",
    "df.isna().sum()\n",
    "\n",
    "df.dropna(axis=0)\n",
    "df.dropna(axis=1)\n",
    "df = df.fillna(df.mean())"
   ]
  },
  {
   "cell_type": "markdown",
   "id": "8941c089-401b-4303-bab7-45446b157eee",
   "metadata": {
    "jp-MarkdownHeadingCollapsed": true
   },
   "source": [
    "### Gestion des duplications"
   ]
  },
  {
   "cell_type": "code",
   "execution_count": null,
   "id": "e6682df3-049f-409d-b42a-4fd9156760e1",
   "metadata": {},
   "outputs": [],
   "source": [
    "# Duplications \n",
    "df.duplicated().sum()\n",
    "\n",
    "df.drop_duplicates(inplace=True)"
   ]
  },
  {
   "cell_type": "markdown",
   "id": "060c7b2f-2011-43f6-9f76-bf84ed4f0d2d",
   "metadata": {
    "jp-MarkdownHeadingCollapsed": true
   },
   "source": [
    "### Renommer "
   ]
  },
  {
   "cell_type": "code",
   "execution_count": null,
   "id": "76a62baa-4aa3-4b7f-9578-c35726b4990a",
   "metadata": {},
   "outputs": [],
   "source": [
    "# Renommer des colonnes\n",
    "# df.rename(columns={'old_name': 'new_name'}, inplace=True)\n",
    "df.rename(columns={'Sex': 'Gender'}, inplace=True)\n",
    "df.columns"
   ]
  },
  {
   "cell_type": "markdown",
   "id": "c8672074-ad9d-4255-b0ef-72e7c126ddd0",
   "metadata": {
    "jp-MarkdownHeadingCollapsed": true
   },
   "source": [
    "### Convertir "
   ]
  },
  {
   "cell_type": "code",
   "execution_count": null,
   "id": "55c8338e-285a-4ff0-b35b-ac453ec0c789",
   "metadata": {},
   "outputs": [],
   "source": [
    "# Convertir le type d'une colonne\n",
    "df['Fare'] = df['Fare'].astype(int)\n",
    "df.dtypes"
   ]
  },
  {
   "cell_type": "markdown",
   "id": "2bd1696a-7d96-4f8d-9dda-e7effd6b71d8",
   "metadata": {
    "jp-MarkdownHeadingCollapsed": true
   },
   "source": [
    "### Filtrer "
   ]
  },
  {
   "cell_type": "code",
   "execution_count": null,
   "id": "f0561ed0-472c-4c29-8ea4-6b5ff8df0ba3",
   "metadata": {},
   "outputs": [],
   "source": [
    "# Filter des donnees \n",
    "# df = df[df['Age'] >= 18]  # Supprime les lignes où 'column_name' est <= 0\n",
    "# df[df.isna()].sum()\n",
    "filtre = df[\"Age\"]>=18\n",
    "df[filtre]"
   ]
  },
  {
   "cell_type": "markdown",
   "id": "34fffffc-a764-4fc1-81f1-aec3dc28fbcd",
   "metadata": {
    "jp-MarkdownHeadingCollapsed": true
   },
   "source": [
    "### Mapping"
   ]
  },
  {
   "cell_type": "code",
   "execution_count": 1,
   "id": "0362f346-1384-4c02-981a-4633d561b0b1",
   "metadata": {},
   "outputs": [
    {
     "name": "stdout",
     "output_type": "stream",
     "text": [
      "    Sexe         Niveau\n",
      "0  Homme       Débutant\n",
      "1  Femme         Avancé\n",
      "2  Femme  Intermédiaire\n",
      "3  Homme         Avancé\n"
     ]
    }
   ],
   "source": [
    "import pandas as pd\n",
    "\n",
    "# Exemple de données\n",
    "data = {\n",
    "    'Sexe': ['Homme', 'Femme', 'Femme', 'Homme'],\n",
    "    'Niveau': ['Débutant', 'Avancé', 'Intermédiaire', 'Avancé']\n",
    "}\n",
    "\n",
    "df = pd.DataFrame(data)\n",
    "print(df)\n"
   ]
  },
  {
   "cell_type": "code",
   "execution_count": 2,
   "id": "94f7b38b-8f6b-4ff4-8f9d-f24bd38eabc2",
   "metadata": {},
   "outputs": [
    {
     "name": "stdout",
     "output_type": "stream",
     "text": [
      "    Sexe         Niveau  Sexe_num  Niveau_num\n",
      "0  Homme       Débutant         0           0\n",
      "1  Femme         Avancé         1           2\n",
      "2  Femme  Intermédiaire         1           1\n",
      "3  Homme         Avancé         0           2\n"
     ]
    }
   ],
   "source": [
    "# Mapping des valeurs\n",
    "sexe_mapping = {'Homme': 0, 'Femme': 1}\n",
    "niveau_mapping = {'Débutant': 0, 'Intermédiaire': 1, 'Avancé': 2}\n",
    "\n",
    "# Application\n",
    "df['Sexe_num'] = df['Sexe'].map(sexe_mapping)\n",
    "df['Niveau_num'] = df['Niveau'].map(niveau_mapping)\n",
    "\n",
    "print(df)\n"
   ]
  },
  {
   "cell_type": "markdown",
   "id": "c5201954-0b5b-42e1-a299-48ec2844945a",
   "metadata": {
    "jp-MarkdownHeadingCollapsed": true
   },
   "source": [
    "# Analyse des données ( Data Manipulation - Statistiques)"
   ]
  },
  {
   "cell_type": "markdown",
   "id": "e3be813c-b883-439d-a64f-17923c8fba79",
   "metadata": {
    "jp-MarkdownHeadingCollapsed": true
   },
   "source": [
    "### Analyse Univariée"
   ]
  },
  {
   "cell_type": "markdown",
   "id": "967d23f2-9b49-461f-99b7-c46bb425c963",
   "metadata": {
    "jp-MarkdownHeadingCollapsed": true
   },
   "source": [
    "### Analyse Bivariée & Multivariée"
   ]
  },
  {
   "cell_type": "markdown",
   "id": "438c642b-b088-43de-9fec-541834a19667",
   "metadata": {
    "jp-MarkdownHeadingCollapsed": true
   },
   "source": [
    "# Visualisation ou Data Visulization ou Data Viz"
   ]
  },
  {
   "cell_type": "markdown",
   "id": "98ac4c42-4127-4e72-9fa2-d37aed688532",
   "metadata": {},
   "source": [
    "## Introduction à Matplotlib"
   ]
  },
  {
   "cell_type": "code",
   "execution_count": null,
   "id": "5e8751cf-2b2b-4864-8bae-ea63a29df1bb",
   "metadata": {},
   "outputs": [],
   "source": []
  },
  {
   "cell_type": "code",
   "execution_count": null,
   "id": "21d78fee-dbeb-4165-be5b-23d89182ab3a",
   "metadata": {},
   "outputs": [],
   "source": []
  },
  {
   "cell_type": "markdown",
   "id": "c3337057-66b1-43bf-b54e-9b6f53e9492c",
   "metadata": {},
   "source": [
    "## Introduction à Seaborn"
   ]
  },
  {
   "cell_type": "code",
   "execution_count": null,
   "id": "2e501f78-6f20-4cfe-890e-1d3a2a5b2ac0",
   "metadata": {},
   "outputs": [],
   "source": []
  }
 ],
 "metadata": {
  "kernelspec": {
   "display_name": "Python 3 (ipykernel)",
   "language": "python",
   "name": "python3"
  },
  "language_info": {
   "codemirror_mode": {
    "name": "ipython",
    "version": 3
   },
   "file_extension": ".py",
   "mimetype": "text/x-python",
   "name": "python",
   "nbconvert_exporter": "python",
   "pygments_lexer": "ipython3",
   "version": "3.13.4"
  }
 },
 "nbformat": 4,
 "nbformat_minor": 5
}
